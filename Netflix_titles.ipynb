{
 "cells": [
  {
   "cell_type": "markdown",
   "id": "3a7f3e14",
   "metadata": {},
   "source": [
    "# Netflix data Analysis"
   ]
  },
  {
   "cell_type": "code",
   "execution_count": 1,
   "id": "82a890ef",
   "metadata": {
    "ExecuteTime": {
     "end_time": "2022-09-02T18:49:52.563733Z",
     "start_time": "2022-09-02T18:49:47.398915Z"
    }
   },
   "outputs": [],
   "source": [
    "import pandas as pd\n",
    "import numpy as np\n",
    "import seaborn as sns\n",
    "import matplotlib.pyplot as plt\n",
    "import warnings\n",
    "warnings.filterwarnings(\"ignore\")"
   ]
  },
  {
   "cell_type": "markdown",
   "id": "bcc7b488",
   "metadata": {},
   "source": [
    "Dataset and Analysis"
   ]
  },
  {
   "cell_type": "code",
   "execution_count": 2,
   "id": "1884a0b5",
   "metadata": {
    "ExecuteTime": {
     "end_time": "2022-09-02T18:50:10.498006Z",
     "start_time": "2022-09-02T18:50:10.370800Z"
    }
   },
   "outputs": [],
   "source": [
    "df = pd.read_csv('netflix_titles.csv')"
   ]
  },
  {
   "cell_type": "code",
   "execution_count": 3,
   "id": "5957d07b",
   "metadata": {
    "ExecuteTime": {
     "end_time": "2022-09-02T18:50:15.702649Z",
     "start_time": "2022-09-02T18:50:15.615918Z"
    }
   },
   "outputs": [
    {
     "data": {
      "text/html": [
       "<div>\n",
       "<style scoped>\n",
       "    .dataframe tbody tr th:only-of-type {\n",
       "        vertical-align: middle;\n",
       "    }\n",
       "\n",
       "    .dataframe tbody tr th {\n",
       "        vertical-align: top;\n",
       "    }\n",
       "\n",
       "    .dataframe thead th {\n",
       "        text-align: right;\n",
       "    }\n",
       "</style>\n",
       "<table border=\"1\" class=\"dataframe\">\n",
       "  <thead>\n",
       "    <tr style=\"text-align: right;\">\n",
       "      <th></th>\n",
       "      <th>show_id</th>\n",
       "      <th>type</th>\n",
       "      <th>title</th>\n",
       "      <th>director</th>\n",
       "      <th>cast</th>\n",
       "      <th>country</th>\n",
       "      <th>date_added</th>\n",
       "      <th>release_year</th>\n",
       "      <th>rating</th>\n",
       "      <th>duration</th>\n",
       "      <th>listed_in</th>\n",
       "      <th>description</th>\n",
       "    </tr>\n",
       "  </thead>\n",
       "  <tbody>\n",
       "    <tr>\n",
       "      <th>0</th>\n",
       "      <td>s1</td>\n",
       "      <td>Movie</td>\n",
       "      <td>Dick Johnson Is Dead</td>\n",
       "      <td>Kirsten Johnson</td>\n",
       "      <td>NaN</td>\n",
       "      <td>United States</td>\n",
       "      <td>September 25, 2021</td>\n",
       "      <td>2020</td>\n",
       "      <td>PG-13</td>\n",
       "      <td>90 min</td>\n",
       "      <td>Documentaries</td>\n",
       "      <td>As her father nears the end of his life, filmm...</td>\n",
       "    </tr>\n",
       "    <tr>\n",
       "      <th>1</th>\n",
       "      <td>s2</td>\n",
       "      <td>TV Show</td>\n",
       "      <td>Blood &amp; Water</td>\n",
       "      <td>NaN</td>\n",
       "      <td>Ama Qamata, Khosi Ngema, Gail Mabalane, Thaban...</td>\n",
       "      <td>South Africa</td>\n",
       "      <td>September 24, 2021</td>\n",
       "      <td>2021</td>\n",
       "      <td>TV-MA</td>\n",
       "      <td>2 Seasons</td>\n",
       "      <td>International TV Shows, TV Dramas, TV Mysteries</td>\n",
       "      <td>After crossing paths at a party, a Cape Town t...</td>\n",
       "    </tr>\n",
       "    <tr>\n",
       "      <th>2</th>\n",
       "      <td>s3</td>\n",
       "      <td>TV Show</td>\n",
       "      <td>Ganglands</td>\n",
       "      <td>Julien Leclercq</td>\n",
       "      <td>Sami Bouajila, Tracy Gotoas, Samuel Jouy, Nabi...</td>\n",
       "      <td>NaN</td>\n",
       "      <td>September 24, 2021</td>\n",
       "      <td>2021</td>\n",
       "      <td>TV-MA</td>\n",
       "      <td>1 Season</td>\n",
       "      <td>Crime TV Shows, International TV Shows, TV Act...</td>\n",
       "      <td>To protect his family from a powerful drug lor...</td>\n",
       "    </tr>\n",
       "    <tr>\n",
       "      <th>3</th>\n",
       "      <td>s4</td>\n",
       "      <td>TV Show</td>\n",
       "      <td>Jailbirds New Orleans</td>\n",
       "      <td>NaN</td>\n",
       "      <td>NaN</td>\n",
       "      <td>NaN</td>\n",
       "      <td>September 24, 2021</td>\n",
       "      <td>2021</td>\n",
       "      <td>TV-MA</td>\n",
       "      <td>1 Season</td>\n",
       "      <td>Docuseries, Reality TV</td>\n",
       "      <td>Feuds, flirtations and toilet talk go down amo...</td>\n",
       "    </tr>\n",
       "    <tr>\n",
       "      <th>4</th>\n",
       "      <td>s5</td>\n",
       "      <td>TV Show</td>\n",
       "      <td>Kota Factory</td>\n",
       "      <td>NaN</td>\n",
       "      <td>Mayur More, Jitendra Kumar, Ranjan Raj, Alam K...</td>\n",
       "      <td>India</td>\n",
       "      <td>September 24, 2021</td>\n",
       "      <td>2021</td>\n",
       "      <td>TV-MA</td>\n",
       "      <td>2 Seasons</td>\n",
       "      <td>International TV Shows, Romantic TV Shows, TV ...</td>\n",
       "      <td>In a city of coaching centers known to train I...</td>\n",
       "    </tr>\n",
       "  </tbody>\n",
       "</table>\n",
       "</div>"
      ],
      "text/plain": [
       "  show_id     type                  title         director  \\\n",
       "0      s1    Movie   Dick Johnson Is Dead  Kirsten Johnson   \n",
       "1      s2  TV Show          Blood & Water              NaN   \n",
       "2      s3  TV Show              Ganglands  Julien Leclercq   \n",
       "3      s4  TV Show  Jailbirds New Orleans              NaN   \n",
       "4      s5  TV Show           Kota Factory              NaN   \n",
       "\n",
       "                                                cast        country  \\\n",
       "0                                                NaN  United States   \n",
       "1  Ama Qamata, Khosi Ngema, Gail Mabalane, Thaban...   South Africa   \n",
       "2  Sami Bouajila, Tracy Gotoas, Samuel Jouy, Nabi...            NaN   \n",
       "3                                                NaN            NaN   \n",
       "4  Mayur More, Jitendra Kumar, Ranjan Raj, Alam K...          India   \n",
       "\n",
       "           date_added  release_year rating   duration  \\\n",
       "0  September 25, 2021          2020  PG-13     90 min   \n",
       "1  September 24, 2021          2021  TV-MA  2 Seasons   \n",
       "2  September 24, 2021          2021  TV-MA   1 Season   \n",
       "3  September 24, 2021          2021  TV-MA   1 Season   \n",
       "4  September 24, 2021          2021  TV-MA  2 Seasons   \n",
       "\n",
       "                                           listed_in  \\\n",
       "0                                      Documentaries   \n",
       "1    International TV Shows, TV Dramas, TV Mysteries   \n",
       "2  Crime TV Shows, International TV Shows, TV Act...   \n",
       "3                             Docuseries, Reality TV   \n",
       "4  International TV Shows, Romantic TV Shows, TV ...   \n",
       "\n",
       "                                         description  \n",
       "0  As her father nears the end of his life, filmm...  \n",
       "1  After crossing paths at a party, a Cape Town t...  \n",
       "2  To protect his family from a powerful drug lor...  \n",
       "3  Feuds, flirtations and toilet talk go down amo...  \n",
       "4  In a city of coaching centers known to train I...  "
      ]
     },
     "execution_count": 3,
     "metadata": {},
     "output_type": "execute_result"
    }
   ],
   "source": [
    "df.head()"
   ]
  },
  {
   "cell_type": "code",
   "execution_count": 7,
   "id": "f954c8e1",
   "metadata": {
    "ExecuteTime": {
     "end_time": "2022-09-02T18:51:17.141266Z",
     "start_time": "2022-09-02T18:51:17.117709Z"
    }
   },
   "outputs": [
    {
     "data": {
      "text/plain": [
       "(8807, 12)"
      ]
     },
     "execution_count": 7,
     "metadata": {},
     "output_type": "execute_result"
    }
   ],
   "source": [
    "df.shape"
   ]
  },
  {
   "cell_type": "code",
   "execution_count": 8,
   "id": "bc3f5562",
   "metadata": {
    "ExecuteTime": {
     "end_time": "2022-09-02T18:51:58.334850Z",
     "start_time": "2022-09-02T18:51:58.319568Z"
    }
   },
   "outputs": [
    {
     "data": {
      "text/plain": [
       "105684"
      ]
     },
     "execution_count": 8,
     "metadata": {},
     "output_type": "execute_result"
    }
   ],
   "source": [
    "df.size"
   ]
  },
  {
   "cell_type": "code",
   "execution_count": 9,
   "id": "2338833e",
   "metadata": {
    "ExecuteTime": {
     "end_time": "2022-09-02T18:52:16.296086Z",
     "start_time": "2022-09-02T18:52:16.243643Z"
    },
    "scrolled": true
   },
   "outputs": [
    {
     "name": "stdout",
     "output_type": "stream",
     "text": [
      "<class 'pandas.core.frame.DataFrame'>\n",
      "RangeIndex: 8807 entries, 0 to 8806\n",
      "Data columns (total 12 columns):\n",
      " #   Column        Non-Null Count  Dtype \n",
      "---  ------        --------------  ----- \n",
      " 0   show_id       8807 non-null   object\n",
      " 1   type          8807 non-null   object\n",
      " 2   title         8807 non-null   object\n",
      " 3   director      6173 non-null   object\n",
      " 4   cast          7982 non-null   object\n",
      " 5   country       7976 non-null   object\n",
      " 6   date_added    8797 non-null   object\n",
      " 7   release_year  8807 non-null   int64 \n",
      " 8   rating        8803 non-null   object\n",
      " 9   duration      8804 non-null   object\n",
      " 10  listed_in     8807 non-null   object\n",
      " 11  description   8807 non-null   object\n",
      "dtypes: int64(1), object(11)\n",
      "memory usage: 825.8+ KB\n"
     ]
    }
   ],
   "source": [
    "df.info()"
   ]
  },
  {
   "cell_type": "markdown",
   "id": "3c51b460",
   "metadata": {},
   "source": [
    "Duplicates"
   ]
  },
  {
   "cell_type": "code",
   "execution_count": 11,
   "id": "3307338d",
   "metadata": {
    "ExecuteTime": {
     "end_time": "2022-09-02T18:52:53.894309Z",
     "start_time": "2022-09-02T18:52:53.810576Z"
    }
   },
   "outputs": [
    {
     "data": {
      "text/html": [
       "<div>\n",
       "<style scoped>\n",
       "    .dataframe tbody tr th:only-of-type {\n",
       "        vertical-align: middle;\n",
       "    }\n",
       "\n",
       "    .dataframe tbody tr th {\n",
       "        vertical-align: top;\n",
       "    }\n",
       "\n",
       "    .dataframe thead th {\n",
       "        text-align: right;\n",
       "    }\n",
       "</style>\n",
       "<table border=\"1\" class=\"dataframe\">\n",
       "  <thead>\n",
       "    <tr style=\"text-align: right;\">\n",
       "      <th></th>\n",
       "      <th>show_id</th>\n",
       "      <th>type</th>\n",
       "      <th>title</th>\n",
       "      <th>director</th>\n",
       "      <th>cast</th>\n",
       "      <th>country</th>\n",
       "      <th>date_added</th>\n",
       "      <th>release_year</th>\n",
       "      <th>rating</th>\n",
       "      <th>duration</th>\n",
       "      <th>listed_in</th>\n",
       "      <th>description</th>\n",
       "    </tr>\n",
       "  </thead>\n",
       "  <tbody>\n",
       "  </tbody>\n",
       "</table>\n",
       "</div>"
      ],
      "text/plain": [
       "Empty DataFrame\n",
       "Columns: [show_id, type, title, director, cast, country, date_added, release_year, rating, duration, listed_in, description]\n",
       "Index: []"
      ]
     },
     "execution_count": 11,
     "metadata": {},
     "output_type": "execute_result"
    }
   ],
   "source": [
    "df[df.duplicated()]"
   ]
  },
  {
   "cell_type": "markdown",
   "id": "b7bf595f",
   "metadata": {},
   "source": [
    "Nulls"
   ]
  },
  {
   "cell_type": "code",
   "execution_count": 12,
   "id": "c1b11aad",
   "metadata": {
    "ExecuteTime": {
     "end_time": "2022-09-02T18:53:34.379701Z",
     "start_time": "2022-09-02T18:53:34.347183Z"
    }
   },
   "outputs": [
    {
     "data": {
      "text/plain": [
       "show_id            0\n",
       "type               0\n",
       "title              0\n",
       "director        2634\n",
       "cast             825\n",
       "country          831\n",
       "date_added        10\n",
       "release_year       0\n",
       "rating             4\n",
       "duration           3\n",
       "listed_in          0\n",
       "description        0\n",
       "dtype: int64"
      ]
     },
     "execution_count": 12,
     "metadata": {},
     "output_type": "execute_result"
    }
   ],
   "source": [
    "df.isnull().sum()"
   ]
  },
  {
   "cell_type": "code",
   "execution_count": 15,
   "id": "9ec44c5e",
   "metadata": {
    "ExecuteTime": {
     "end_time": "2022-09-02T18:54:48.781622Z",
     "start_time": "2022-09-02T18:54:48.398743Z"
    }
   },
   "outputs": [
    {
     "data": {
      "image/png": "[encoded data removed]",
      "text/plain": [
       "<Figure size 432x288 with 1 Axes>"
      ]
     },
     "metadata": {
      "needs_background": "light"
     },
     "output_type": "display_data"
    }
   ],
   "source": [
    "sns.heatmap(df.isnull() ,cbar=False)\n",
    "plt.show()"
   ]
  },
  {
   "cell_type": "code",
   "execution_count": 16,
   "id": "7b7693b6",
   "metadata": {
    "ExecuteTime": {
     "end_time": "2022-09-02T18:55:46.151975Z",
     "start_time": "2022-09-02T18:55:46.112344Z"
    }
   },
   "outputs": [],
   "source": [
    "df_new = df.dropna()"
   ]
  },
  {
   "cell_type": "code",
   "execution_count": 19,
   "id": "dd5576ae",
   "metadata": {
    "ExecuteTime": {
     "end_time": "2022-09-02T18:56:10.500562Z",
     "start_time": "2022-09-02T18:56:10.468320Z"
    }
   },
   "outputs": [
    {
     "data": {
      "text/plain": [
       "(5332, 12)"
      ]
     },
     "execution_count": 19,
     "metadata": {},
     "output_type": "execute_result"
    }
   ],
   "source": [
    "df_new.shape"
   ]
  },
  {
   "cell_type": "markdown",
   "id": "f133ee97",
   "metadata": {},
   "source": [
    "## Dates"
   ]
  },
  {
   "cell_type": "code",
   "execution_count": 20,
   "id": "56bf7822",
   "metadata": {
    "ExecuteTime": {
     "end_time": "2022-09-02T18:57:39.304071Z",
     "start_time": "2022-09-02T18:57:38.966275Z"
    }
   },
   "outputs": [],
   "source": [
    "df[\"Dates\"] = pd.to_datetime(df[\"date_added\"])"
   ]
  },
  {
   "cell_type": "code",
   "execution_count": 21,
   "id": "7314ca83",
   "metadata": {
    "ExecuteTime": {
     "end_time": "2022-09-02T18:58:13.520836Z",
     "start_time": "2022-09-02T18:58:13.489516Z"
    }
   },
   "outputs": [
    {
     "data": {
      "text/html": [
       "<div>\n",
       "<style scoped>\n",
       "    .dataframe tbody tr th:only-of-type {\n",
       "        vertical-align: middle;\n",
       "    }\n",
       "\n",
       "    .dataframe tbody tr th {\n",
       "        vertical-align: top;\n",
       "    }\n",
       "\n",
       "    .dataframe thead th {\n",
       "        text-align: right;\n",
       "    }\n",
       "</style>\n",
       "<table border=\"1\" class=\"dataframe\">\n",
       "  <thead>\n",
       "    <tr style=\"text-align: right;\">\n",
       "      <th></th>\n",
       "      <th>show_id</th>\n",
       "      <th>type</th>\n",
       "      <th>title</th>\n",
       "      <th>director</th>\n",
       "      <th>cast</th>\n",
       "      <th>country</th>\n",
       "      <th>date_added</th>\n",
       "      <th>release_year</th>\n",
       "      <th>rating</th>\n",
       "      <th>duration</th>\n",
       "      <th>listed_in</th>\n",
       "      <th>description</th>\n",
       "      <th>Dates</th>\n",
       "    </tr>\n",
       "  </thead>\n",
       "  <tbody>\n",
       "    <tr>\n",
       "      <th>0</th>\n",
       "      <td>s1</td>\n",
       "      <td>Movie</td>\n",
       "      <td>Dick Johnson Is Dead</td>\n",
       "      <td>Kirsten Johnson</td>\n",
       "      <td>NaN</td>\n",
       "      <td>United States</td>\n",
       "      <td>September 25, 2021</td>\n",
       "      <td>2020</td>\n",
       "      <td>PG-13</td>\n",
       "      <td>90 min</td>\n",
       "      <td>Documentaries</td>\n",
       "      <td>As her father nears the end of his life, filmm...</td>\n",
       "      <td>2021-09-25</td>\n",
       "    </tr>\n",
       "    <tr>\n",
       "      <th>1</th>\n",
       "      <td>s2</td>\n",
       "      <td>TV Show</td>\n",
       "      <td>Blood &amp; Water</td>\n",
       "      <td>NaN</td>\n",
       "      <td>Ama Qamata, Khosi Ngema, Gail Mabalane, Thaban...</td>\n",
       "      <td>South Africa</td>\n",
       "      <td>September 24, 2021</td>\n",
       "      <td>2021</td>\n",
       "      <td>TV-MA</td>\n",
       "      <td>2 Seasons</td>\n",
       "      <td>International TV Shows, TV Dramas, TV Mysteries</td>\n",
       "      <td>After crossing paths at a party, a Cape Town t...</td>\n",
       "      <td>2021-09-24</td>\n",
       "    </tr>\n",
       "    <tr>\n",
       "      <th>2</th>\n",
       "      <td>s3</td>\n",
       "      <td>TV Show</td>\n",
       "      <td>Ganglands</td>\n",
       "      <td>Julien Leclercq</td>\n",
       "      <td>Sami Bouajila, Tracy Gotoas, Samuel Jouy, Nabi...</td>\n",
       "      <td>NaN</td>\n",
       "      <td>September 24, 2021</td>\n",
       "      <td>2021</td>\n",
       "      <td>TV-MA</td>\n",
       "      <td>1 Season</td>\n",
       "      <td>Crime TV Shows, International TV Shows, TV Act...</td>\n",
       "      <td>To protect his family from a powerful drug lor...</td>\n",
       "      <td>2021-09-24</td>\n",
       "    </tr>\n",
       "    <tr>\n",
       "      <th>3</th>\n",
       "      <td>s4</td>\n",
       "      <td>TV Show</td>\n",
       "      <td>Jailbirds New Orleans</td>\n",
       "      <td>NaN</td>\n",
       "      <td>NaN</td>\n",
       "      <td>NaN</td>\n",
       "      <td>September 24, 2021</td>\n",
       "      <td>2021</td>\n",
       "      <td>TV-MA</td>\n",
       "      <td>1 Season</td>\n",
       "      <td>Docuseries, Reality TV</td>\n",
       "      <td>Feuds, flirtations and toilet talk go down amo...</td>\n",
       "      <td>2021-09-24</td>\n",
       "    </tr>\n",
       "    <tr>\n",
       "      <th>4</th>\n",
       "      <td>s5</td>\n",
       "      <td>TV Show</td>\n",
       "      <td>Kota Factory</td>\n",
       "      <td>NaN</td>\n",
       "      <td>Mayur More, Jitendra Kumar, Ranjan Raj, Alam K...</td>\n",
       "      <td>India</td>\n",
       "      <td>September 24, 2021</td>\n",
       "      <td>2021</td>\n",
       "      <td>TV-MA</td>\n",
       "      <td>2 Seasons</td>\n",
       "      <td>International TV Shows, Romantic TV Shows, TV ...</td>\n",
       "      <td>In a city of coaching centers known to train I...</td>\n",
       "      <td>2021-09-24</td>\n",
       "    </tr>\n",
       "  </tbody>\n",
       "</table>\n",
       "</div>"
      ],
      "text/plain": [
       "  show_id     type                  title         director  \\\n",
       "0      s1    Movie   Dick Johnson Is Dead  Kirsten Johnson   \n",
       "1      s2  TV Show          Blood & Water              NaN   \n",
       "2      s3  TV Show              Ganglands  Julien Leclercq   \n",
       "3      s4  TV Show  Jailbirds New Orleans              NaN   \n",
       "4      s5  TV Show           Kota Factory              NaN   \n",
       "\n",
       "                                                cast        country  \\\n",
       "0                                                NaN  United States   \n",
       "1  Ama Qamata, Khosi Ngema, Gail Mabalane, Thaban...   South Africa   \n",
       "2  Sami Bouajila, Tracy Gotoas, Samuel Jouy, Nabi...            NaN   \n",
       "3                                                NaN            NaN   \n",
       "4  Mayur More, Jitendra Kumar, Ranjan Raj, Alam K...          India   \n",
       "\n",
       "           date_added  release_year rating   duration  \\\n",
       "0  September 25, 2021          2020  PG-13     90 min   \n",
       "1  September 24, 2021          2021  TV-MA  2 Seasons   \n",
       "2  September 24, 2021          2021  TV-MA   1 Season   \n",
       "3  September 24, 2021          2021  TV-MA   1 Season   \n",
       "4  September 24, 2021          2021  TV-MA  2 Seasons   \n",
       "\n",
       "                                           listed_in  \\\n",
       "0                                      Documentaries   \n",
       "1    International TV Shows, TV Dramas, TV Mysteries   \n",
       "2  Crime TV Shows, International TV Shows, TV Act...   \n",
       "3                             Docuseries, Reality TV   \n",
       "4  International TV Shows, Romantic TV Shows, TV ...   \n",
       "\n",
       "                                         description      Dates  \n",
       "0  As her father nears the end of his life, filmm... 2021-09-25  \n",
       "1  After crossing paths at a party, a Cape Town t... 2021-09-24  \n",
       "2  To protect his family from a powerful drug lor... 2021-09-24  \n",
       "3  Feuds, flirtations and toilet talk go down amo... 2021-09-24  \n",
       "4  In a city of coaching centers known to train I... 2021-09-24  "
      ]
     },
     "execution_count": 21,
     "metadata": {},
     "output_type": "execute_result"
    }
   ],
   "source": [
    "df.head()"
   ]
  },
  {
   "cell_type": "markdown",
   "id": "18bfcdb6",
   "metadata": {},
   "source": [
    "## Releases per Year"
   ]
  },
  {
   "cell_type": "code",
   "execution_count": 24,
   "id": "264b4909",
   "metadata": {
    "ExecuteTime": {
     "end_time": "2022-09-02T19:01:02.162677Z",
     "start_time": "2022-09-02T19:01:02.131419Z"
    },
    "scrolled": true
   },
   "outputs": [
    {
     "data": {
      "text/plain": [
       "2019.0    2016\n",
       "2020.0    1879\n",
       "2018.0    1649\n",
       "2021.0    1498\n",
       "2017.0    1188\n",
       "2016.0     429\n",
       "2015.0      82\n",
       "2014.0      24\n",
       "2011.0      13\n",
       "2013.0      11\n",
       "2012.0       3\n",
       "2009.0       2\n",
       "2008.0       2\n",
       "2010.0       1\n",
       "Name: Dates, dtype: int64"
      ]
     },
     "execution_count": 24,
     "metadata": {},
     "output_type": "execute_result"
    }
   ],
   "source": [
    "df[\"Dates\"].dt.year.value_counts()"
   ]
  },
  {
   "cell_type": "code",
   "execution_count": 27,
   "id": "2b1bf450",
   "metadata": {
    "ExecuteTime": {
     "end_time": "2022-09-02T19:03:19.332788Z",
     "start_time": "2022-09-02T19:03:19.140282Z"
    }
   },
   "outputs": [
    {
     "data": {
      "image/png": "[encoded data removed]",
      "text/plain": [
       "<Figure size 432x288 with 1 Axes>"
      ]
     },
     "metadata": {
      "needs_background": "light"
     },
     "output_type": "display_data"
    }
   ],
   "source": [
    "df[\"Dates\"].dt.year.value_counts().plot(kind = 'bar')\n",
    "plt.title(\"Releases per Year \")\n",
    "plt.xlabel(\"Years \")\n",
    "plt.ylabel(\"No of Releases\")\n",
    "plt.show()"
   ]
  },
  {
   "cell_type": "markdown",
   "id": "87e7cf8d",
   "metadata": {},
   "source": [
    "## Category"
   ]
  },
  {
   "cell_type": "code",
   "execution_count": 35,
   "id": "b5cd045f",
   "metadata": {
    "ExecuteTime": {
     "end_time": "2022-09-02T19:05:45.665267Z",
     "start_time": "2022-09-02T19:05:45.607639Z"
    }
   },
   "outputs": [
    {
     "data": {
      "text/plain": [
       "type\n",
       "Movie      6131\n",
       "TV Show    2676\n",
       "Name: type, dtype: int64"
      ]
     },
     "execution_count": 35,
     "metadata": {},
     "output_type": "execute_result"
    }
   ],
   "source": [
    "df.groupby(\"type\").type.count()"
   ]
  },
  {
   "cell_type": "code",
   "execution_count": 37,
   "id": "8e2a4a9d",
   "metadata": {
    "ExecuteTime": {
     "end_time": "2022-09-02T19:07:15.274729Z",
     "start_time": "2022-09-02T19:07:15.126387Z"
    }
   },
   "outputs": [
    {
     "data": {
      "image/png": "[encoded data removed]",
      "text/plain": [
       "<Figure size 432x288 with 1 Axes>"
      ]
     },
     "metadata": {
      "needs_background": "light"
     },
     "output_type": "display_data"
    }
   ],
   "source": [
    "sns.countplot(df['type'])\n",
    "plt.title(\"Category\")\n",
    "plt.show()"
   ]
  },
  {
   "cell_type": "code",
   "execution_count": 38,
   "id": "f75f64a2",
   "metadata": {
    "ExecuteTime": {
     "end_time": "2022-09-02T19:08:03.649485Z",
     "start_time": "2022-09-02T19:08:03.609254Z"
    }
   },
   "outputs": [
    {
     "data": {
      "text/html": [
       "<div>\n",
       "<style scoped>\n",
       "    .dataframe tbody tr th:only-of-type {\n",
       "        vertical-align: middle;\n",
       "    }\n",
       "\n",
       "    .dataframe tbody tr th {\n",
       "        vertical-align: top;\n",
       "    }\n",
       "\n",
       "    .dataframe thead th {\n",
       "        text-align: right;\n",
       "    }\n",
       "</style>\n",
       "<table border=\"1\" class=\"dataframe\">\n",
       "  <thead>\n",
       "    <tr style=\"text-align: right;\">\n",
       "      <th></th>\n",
       "      <th>show_id</th>\n",
       "      <th>type</th>\n",
       "      <th>title</th>\n",
       "      <th>director</th>\n",
       "      <th>cast</th>\n",
       "      <th>country</th>\n",
       "      <th>date_added</th>\n",
       "      <th>release_year</th>\n",
       "      <th>rating</th>\n",
       "      <th>duration</th>\n",
       "      <th>listed_in</th>\n",
       "      <th>description</th>\n",
       "      <th>Dates</th>\n",
       "    </tr>\n",
       "  </thead>\n",
       "  <tbody>\n",
       "    <tr>\n",
       "      <th>0</th>\n",
       "      <td>s1</td>\n",
       "      <td>Movie</td>\n",
       "      <td>Dick Johnson Is Dead</td>\n",
       "      <td>Kirsten Johnson</td>\n",
       "      <td>NaN</td>\n",
       "      <td>United States</td>\n",
       "      <td>September 25, 2021</td>\n",
       "      <td>2020</td>\n",
       "      <td>PG-13</td>\n",
       "      <td>90 min</td>\n",
       "      <td>Documentaries</td>\n",
       "      <td>As her father nears the end of his life, filmm...</td>\n",
       "      <td>2021-09-25</td>\n",
       "    </tr>\n",
       "    <tr>\n",
       "      <th>1</th>\n",
       "      <td>s2</td>\n",
       "      <td>TV Show</td>\n",
       "      <td>Blood &amp; Water</td>\n",
       "      <td>NaN</td>\n",
       "      <td>Ama Qamata, Khosi Ngema, Gail Mabalane, Thaban...</td>\n",
       "      <td>South Africa</td>\n",
       "      <td>September 24, 2021</td>\n",
       "      <td>2021</td>\n",
       "      <td>TV-MA</td>\n",
       "      <td>2 Seasons</td>\n",
       "      <td>International TV Shows, TV Dramas, TV Mysteries</td>\n",
       "      <td>After crossing paths at a party, a Cape Town t...</td>\n",
       "      <td>2021-09-24</td>\n",
       "    </tr>\n",
       "    <tr>\n",
       "      <th>2</th>\n",
       "      <td>s3</td>\n",
       "      <td>TV Show</td>\n",
       "      <td>Ganglands</td>\n",
       "      <td>Julien Leclercq</td>\n",
       "      <td>Sami Bouajila, Tracy Gotoas, Samuel Jouy, Nabi...</td>\n",
       "      <td>NaN</td>\n",
       "      <td>September 24, 2021</td>\n",
       "      <td>2021</td>\n",
       "      <td>TV-MA</td>\n",
       "      <td>1 Season</td>\n",
       "      <td>Crime TV Shows, International TV Shows, TV Act...</td>\n",
       "      <td>To protect his family from a powerful drug lor...</td>\n",
       "      <td>2021-09-24</td>\n",
       "    </tr>\n",
       "    <tr>\n",
       "      <th>3</th>\n",
       "      <td>s4</td>\n",
       "      <td>TV Show</td>\n",
       "      <td>Jailbirds New Orleans</td>\n",
       "      <td>NaN</td>\n",
       "      <td>NaN</td>\n",
       "      <td>NaN</td>\n",
       "      <td>September 24, 2021</td>\n",
       "      <td>2021</td>\n",
       "      <td>TV-MA</td>\n",
       "      <td>1 Season</td>\n",
       "      <td>Docuseries, Reality TV</td>\n",
       "      <td>Feuds, flirtations and toilet talk go down amo...</td>\n",
       "      <td>2021-09-24</td>\n",
       "    </tr>\n",
       "    <tr>\n",
       "      <th>4</th>\n",
       "      <td>s5</td>\n",
       "      <td>TV Show</td>\n",
       "      <td>Kota Factory</td>\n",
       "      <td>NaN</td>\n",
       "      <td>Mayur More, Jitendra Kumar, Ranjan Raj, Alam K...</td>\n",
       "      <td>India</td>\n",
       "      <td>September 24, 2021</td>\n",
       "      <td>2021</td>\n",
       "      <td>TV-MA</td>\n",
       "      <td>2 Seasons</td>\n",
       "      <td>International TV Shows, Romantic TV Shows, TV ...</td>\n",
       "      <td>In a city of coaching centers known to train I...</td>\n",
       "      <td>2021-09-24</td>\n",
       "    </tr>\n",
       "  </tbody>\n",
       "</table>\n",
       "</div>"
      ],
      "text/plain": [
       "  show_id     type                  title         director  \\\n",
       "0      s1    Movie   Dick Johnson Is Dead  Kirsten Johnson   \n",
       "1      s2  TV Show          Blood & Water              NaN   \n",
       "2      s3  TV Show              Ganglands  Julien Leclercq   \n",
       "3      s4  TV Show  Jailbirds New Orleans              NaN   \n",
       "4      s5  TV Show           Kota Factory              NaN   \n",
       "\n",
       "                                                cast        country  \\\n",
       "0                                                NaN  United States   \n",
       "1  Ama Qamata, Khosi Ngema, Gail Mabalane, Thaban...   South Africa   \n",
       "2  Sami Bouajila, Tracy Gotoas, Samuel Jouy, Nabi...            NaN   \n",
       "3                                                NaN            NaN   \n",
       "4  Mayur More, Jitendra Kumar, Ranjan Raj, Alam K...          India   \n",
       "\n",
       "           date_added  release_year rating   duration  \\\n",
       "0  September 25, 2021          2020  PG-13     90 min   \n",
       "1  September 24, 2021          2021  TV-MA  2 Seasons   \n",
       "2  September 24, 2021          2021  TV-MA   1 Season   \n",
       "3  September 24, 2021          2021  TV-MA   1 Season   \n",
       "4  September 24, 2021          2021  TV-MA  2 Seasons   \n",
       "\n",
       "                                           listed_in  \\\n",
       "0                                      Documentaries   \n",
       "1    International TV Shows, TV Dramas, TV Mysteries   \n",
       "2  Crime TV Shows, International TV Shows, TV Act...   \n",
       "3                             Docuseries, Reality TV   \n",
       "4  International TV Shows, Romantic TV Shows, TV ...   \n",
       "\n",
       "                                         description      Dates  \n",
       "0  As her father nears the end of his life, filmm... 2021-09-25  \n",
       "1  After crossing paths at a party, a Cape Town t... 2021-09-24  \n",
       "2  To protect his family from a powerful drug lor... 2021-09-24  \n",
       "3  Feuds, flirtations and toilet talk go down amo... 2021-09-24  \n",
       "4  In a city of coaching centers known to train I... 2021-09-24  "
      ]
     },
     "execution_count": 38,
     "metadata": {},
     "output_type": "execute_result"
    }
   ],
   "source": [
    "df.head()"
   ]
  },
  {
   "cell_type": "markdown",
   "id": "6d098dfd",
   "metadata": {},
   "source": [
    "## Directors"
   ]
  },
  {
   "cell_type": "code",
   "execution_count": 40,
   "id": "d1a8608c",
   "metadata": {
    "ExecuteTime": {
     "end_time": "2022-09-02T19:09:32.590053Z",
     "start_time": "2022-09-02T19:09:32.570752Z"
    }
   },
   "outputs": [
    {
     "data": {
      "text/plain": [
       "Rajiv Chilaka                     19\n",
       "Raúl Campos, Jan Suter            18\n",
       "Marcus Raboy                      16\n",
       "Suhas Kadav                       16\n",
       "Jay Karas                         14\n",
       "                                  ..\n",
       "Raymie Muzquiz, Stu Livingston     1\n",
       "Joe Menendez                       1\n",
       "Eric Bross                         1\n",
       "Will Eisenberg                     1\n",
       "Mozez Singh                        1\n",
       "Name: director, Length: 4528, dtype: int64"
      ]
     },
     "execution_count": 40,
     "metadata": {},
     "output_type": "execute_result"
    }
   ],
   "source": [
    "direc = df[\"director\"].value_counts()\n",
    "direc"
   ]
  },
  {
   "cell_type": "markdown",
   "id": "33a6beea",
   "metadata": {},
   "source": [
    "## 2020 Releases"
   ]
  },
  {
   "cell_type": "code",
   "execution_count": 44,
   "id": "0082168e",
   "metadata": {
    "ExecuteTime": {
     "end_time": "2022-09-02T19:12:12.317131Z",
     "start_time": "2022-09-02T19:12:12.276869Z"
    }
   },
   "outputs": [
    {
     "data": {
      "text/html": [
       "<div>\n",
       "<style scoped>\n",
       "    .dataframe tbody tr th:only-of-type {\n",
       "        vertical-align: middle;\n",
       "    }\n",
       "\n",
       "    .dataframe tbody tr th {\n",
       "        vertical-align: top;\n",
       "    }\n",
       "\n",
       "    .dataframe thead th {\n",
       "        text-align: right;\n",
       "    }\n",
       "</style>\n",
       "<table border=\"1\" class=\"dataframe\">\n",
       "  <thead>\n",
       "    <tr style=\"text-align: right;\">\n",
       "      <th></th>\n",
       "      <th>show_id</th>\n",
       "      <th>type</th>\n",
       "      <th>title</th>\n",
       "      <th>director</th>\n",
       "      <th>cast</th>\n",
       "      <th>country</th>\n",
       "      <th>date_added</th>\n",
       "      <th>release_year</th>\n",
       "      <th>rating</th>\n",
       "      <th>duration</th>\n",
       "      <th>listed_in</th>\n",
       "      <th>description</th>\n",
       "      <th>Dates</th>\n",
       "    </tr>\n",
       "  </thead>\n",
       "  <tbody>\n",
       "    <tr>\n",
       "      <th>17</th>\n",
       "      <td>s18</td>\n",
       "      <td>TV Show</td>\n",
       "      <td>Falsa identidad</td>\n",
       "      <td>NaN</td>\n",
       "      <td>Luis Ernesto Franco, Camila Sodi, Sergio Goyri...</td>\n",
       "      <td>Mexico</td>\n",
       "      <td>September 22, 2021</td>\n",
       "      <td>2020</td>\n",
       "      <td>TV-MA</td>\n",
       "      <td>2 Seasons</td>\n",
       "      <td>Crime TV Shows, Spanish-Language TV Shows, TV ...</td>\n",
       "      <td>Strangers Diego and Isabel flee their home in ...</td>\n",
       "      <td>2021-09-22</td>\n",
       "    </tr>\n",
       "    <tr>\n",
       "      <th>32</th>\n",
       "      <td>s33</td>\n",
       "      <td>TV Show</td>\n",
       "      <td>Sex Education</td>\n",
       "      <td>NaN</td>\n",
       "      <td>Asa Butterfield, Gillian Anderson, Ncuti Gatwa...</td>\n",
       "      <td>United Kingdom</td>\n",
       "      <td>September 17, 2021</td>\n",
       "      <td>2020</td>\n",
       "      <td>TV-MA</td>\n",
       "      <td>3 Seasons</td>\n",
       "      <td>British TV Shows, International TV Shows, TV C...</td>\n",
       "      <td>Insecure Otis has all the answers when it come...</td>\n",
       "      <td>2021-09-17</td>\n",
       "    </tr>\n",
       "    <tr>\n",
       "      <th>34</th>\n",
       "      <td>s35</td>\n",
       "      <td>TV Show</td>\n",
       "      <td>Tayo and Little Wizards</td>\n",
       "      <td>NaN</td>\n",
       "      <td>Dami Lee, Jason Lee, Bommie Catherine Han, Jen...</td>\n",
       "      <td>NaN</td>\n",
       "      <td>September 17, 2021</td>\n",
       "      <td>2020</td>\n",
       "      <td>TV-Y7</td>\n",
       "      <td>1 Season</td>\n",
       "      <td>Kids' TV</td>\n",
       "      <td>Tayo speeds into an adventure when his friends...</td>\n",
       "      <td>2021-09-17</td>\n",
       "    </tr>\n",
       "    <tr>\n",
       "      <th>47</th>\n",
       "      <td>s48</td>\n",
       "      <td>TV Show</td>\n",
       "      <td>The Smart Money Woman</td>\n",
       "      <td>Bunmi Ajakaiye</td>\n",
       "      <td>Osas Ighodaro, Ini Dima-Okojie, Kemi Lala Akin...</td>\n",
       "      <td>NaN</td>\n",
       "      <td>September 16, 2021</td>\n",
       "      <td>2020</td>\n",
       "      <td>TV-MA</td>\n",
       "      <td>1 Season</td>\n",
       "      <td>International TV Shows, Romantic TV Shows, TV ...</td>\n",
       "      <td>Five glamorous millennials strive for success ...</td>\n",
       "      <td>2021-09-16</td>\n",
       "    </tr>\n",
       "    <tr>\n",
       "      <th>148</th>\n",
       "      <td>s149</td>\n",
       "      <td>TV Show</td>\n",
       "      <td>HQ Barbers</td>\n",
       "      <td>Gerhard Mostert</td>\n",
       "      <td>Hakeem Kae-Kazim, Chioma Omeruah, Orukotan Ade...</td>\n",
       "      <td>NaN</td>\n",
       "      <td>September 1, 2021</td>\n",
       "      <td>2020</td>\n",
       "      <td>TV-14</td>\n",
       "      <td>1 Season</td>\n",
       "      <td>TV Shows</td>\n",
       "      <td>When a family run barber shop in the heart of ...</td>\n",
       "      <td>2021-09-01</td>\n",
       "    </tr>\n",
       "    <tr>\n",
       "      <th>...</th>\n",
       "      <td>...</td>\n",
       "      <td>...</td>\n",
       "      <td>...</td>\n",
       "      <td>...</td>\n",
       "      <td>...</td>\n",
       "      <td>...</td>\n",
       "      <td>...</td>\n",
       "      <td>...</td>\n",
       "      <td>...</td>\n",
       "      <td>...</td>\n",
       "      <td>...</td>\n",
       "      <td>...</td>\n",
       "      <td>...</td>\n",
       "    </tr>\n",
       "    <tr>\n",
       "      <th>3287</th>\n",
       "      <td>s3288</td>\n",
       "      <td>TV Show</td>\n",
       "      <td>Maradona in Mexico</td>\n",
       "      <td>NaN</td>\n",
       "      <td>Diego Armando Maradona</td>\n",
       "      <td>Argentina, United States, Mexico</td>\n",
       "      <td>November 13, 2019</td>\n",
       "      <td>2020</td>\n",
       "      <td>TV-MA</td>\n",
       "      <td>1 Season</td>\n",
       "      <td>Docuseries, Spanish-Language TV Shows</td>\n",
       "      <td>In this docuseries, soccer great Diego Maradon...</td>\n",
       "      <td>2019-11-13</td>\n",
       "    </tr>\n",
       "    <tr>\n",
       "      <th>3369</th>\n",
       "      <td>s3370</td>\n",
       "      <td>TV Show</td>\n",
       "      <td>BoJack Horseman</td>\n",
       "      <td>NaN</td>\n",
       "      <td>Will Arnett, Aaron Paul, Amy Sedaris, Alison B...</td>\n",
       "      <td>United States</td>\n",
       "      <td>October 25, 2019</td>\n",
       "      <td>2020</td>\n",
       "      <td>TV-MA</td>\n",
       "      <td>6 Seasons</td>\n",
       "      <td>TV Comedies</td>\n",
       "      <td>Meet the most beloved sitcom horse of the '90s...</td>\n",
       "      <td>2019-10-25</td>\n",
       "    </tr>\n",
       "    <tr>\n",
       "      <th>3433</th>\n",
       "      <td>s3434</td>\n",
       "      <td>TV Show</td>\n",
       "      <td>The Hook Up Plan</td>\n",
       "      <td>NaN</td>\n",
       "      <td>Marc Ruchmann, Zita Hanrot, Sabrina Ouazani, J...</td>\n",
       "      <td>France</td>\n",
       "      <td>October 11, 2019</td>\n",
       "      <td>2020</td>\n",
       "      <td>TV-MA</td>\n",
       "      <td>2 Seasons</td>\n",
       "      <td>International TV Shows, Romantic TV Shows, TV ...</td>\n",
       "      <td>When Parisian Elsa gets hung up on her ex, her...</td>\n",
       "      <td>2019-10-11</td>\n",
       "    </tr>\n",
       "    <tr>\n",
       "      <th>8125</th>\n",
       "      <td>s8126</td>\n",
       "      <td>TV Show</td>\n",
       "      <td>Super Wings</td>\n",
       "      <td>NaN</td>\n",
       "      <td>Luca Padovan, Evan Smolin, Junah Jang, Colin C...</td>\n",
       "      <td>United States, South Korea, China</td>\n",
       "      <td>December 1, 2020</td>\n",
       "      <td>2020</td>\n",
       "      <td>TV-Y</td>\n",
       "      <td>3 Seasons</td>\n",
       "      <td>Kids' TV, Korean TV Shows</td>\n",
       "      <td>A cheerful jet and his transforming pals striv...</td>\n",
       "      <td>2020-12-01</td>\n",
       "    </tr>\n",
       "    <tr>\n",
       "      <th>8132</th>\n",
       "      <td>s8133</td>\n",
       "      <td>TV Show</td>\n",
       "      <td>Surviving R. Kelly Part II: The Reckoning</td>\n",
       "      <td>NaN</td>\n",
       "      <td>R. Kelly</td>\n",
       "      <td>United States</td>\n",
       "      <td>April 13, 2020</td>\n",
       "      <td>2020</td>\n",
       "      <td>TV-MA</td>\n",
       "      <td>1 Season</td>\n",
       "      <td>Crime TV Shows, Docuseries</td>\n",
       "      <td>As more women come forward with harrowing accu...</td>\n",
       "      <td>2020-04-13</td>\n",
       "    </tr>\n",
       "  </tbody>\n",
       "</table>\n",
       "<p>436 rows × 13 columns</p>\n",
       "</div>"
      ],
      "text/plain": [
       "     show_id     type                                      title  \\\n",
       "17       s18  TV Show                            Falsa identidad   \n",
       "32       s33  TV Show                              Sex Education   \n",
       "34       s35  TV Show                    Tayo and Little Wizards   \n",
       "47       s48  TV Show                      The Smart Money Woman   \n",
       "148     s149  TV Show                                 HQ Barbers   \n",
       "...      ...      ...                                        ...   \n",
       "3287   s3288  TV Show                         Maradona in Mexico   \n",
       "3369   s3370  TV Show                            BoJack Horseman   \n",
       "3433   s3434  TV Show                           The Hook Up Plan   \n",
       "8125   s8126  TV Show                                Super Wings   \n",
       "8132   s8133  TV Show  Surviving R. Kelly Part II: The Reckoning   \n",
       "\n",
       "             director                                               cast  \\\n",
       "17                NaN  Luis Ernesto Franco, Camila Sodi, Sergio Goyri...   \n",
       "32                NaN  Asa Butterfield, Gillian Anderson, Ncuti Gatwa...   \n",
       "34                NaN  Dami Lee, Jason Lee, Bommie Catherine Han, Jen...   \n",
       "47     Bunmi Ajakaiye  Osas Ighodaro, Ini Dima-Okojie, Kemi Lala Akin...   \n",
       "148   Gerhard Mostert  Hakeem Kae-Kazim, Chioma Omeruah, Orukotan Ade...   \n",
       "...               ...                                                ...   \n",
       "3287              NaN                             Diego Armando Maradona   \n",
       "3369              NaN  Will Arnett, Aaron Paul, Amy Sedaris, Alison B...   \n",
       "3433              NaN  Marc Ruchmann, Zita Hanrot, Sabrina Ouazani, J...   \n",
       "8125              NaN  Luca Padovan, Evan Smolin, Junah Jang, Colin C...   \n",
       "8132              NaN                                           R. Kelly   \n",
       "\n",
       "                                country          date_added  release_year  \\\n",
       "17                               Mexico  September 22, 2021          2020   \n",
       "32                       United Kingdom  September 17, 2021          2020   \n",
       "34                                  NaN  September 17, 2021          2020   \n",
       "47                                  NaN  September 16, 2021          2020   \n",
       "148                                 NaN   September 1, 2021          2020   \n",
       "...                                 ...                 ...           ...   \n",
       "3287   Argentina, United States, Mexico   November 13, 2019          2020   \n",
       "3369                      United States    October 25, 2019          2020   \n",
       "3433                             France    October 11, 2019          2020   \n",
       "8125  United States, South Korea, China    December 1, 2020          2020   \n",
       "8132                      United States      April 13, 2020          2020   \n",
       "\n",
       "     rating   duration                                          listed_in  \\\n",
       "17    TV-MA  2 Seasons  Crime TV Shows, Spanish-Language TV Shows, TV ...   \n",
       "32    TV-MA  3 Seasons  British TV Shows, International TV Shows, TV C...   \n",
       "34    TV-Y7   1 Season                                           Kids' TV   \n",
       "47    TV-MA   1 Season  International TV Shows, Romantic TV Shows, TV ...   \n",
       "148   TV-14   1 Season                                           TV Shows   \n",
       "...     ...        ...                                                ...   \n",
       "3287  TV-MA   1 Season              Docuseries, Spanish-Language TV Shows   \n",
       "3369  TV-MA  6 Seasons                                        TV Comedies   \n",
       "3433  TV-MA  2 Seasons  International TV Shows, Romantic TV Shows, TV ...   \n",
       "8125   TV-Y  3 Seasons                          Kids' TV, Korean TV Shows   \n",
       "8132  TV-MA   1 Season                         Crime TV Shows, Docuseries   \n",
       "\n",
       "                                            description      Dates  \n",
       "17    Strangers Diego and Isabel flee their home in ... 2021-09-22  \n",
       "32    Insecure Otis has all the answers when it come... 2021-09-17  \n",
       "34    Tayo speeds into an adventure when his friends... 2021-09-17  \n",
       "47    Five glamorous millennials strive for success ... 2021-09-16  \n",
       "148   When a family run barber shop in the heart of ... 2021-09-01  \n",
       "...                                                 ...        ...  \n",
       "3287  In this docuseries, soccer great Diego Maradon... 2019-11-13  \n",
       "3369  Meet the most beloved sitcom horse of the '90s... 2019-10-25  \n",
       "3433  When Parisian Elsa gets hung up on her ex, her... 2019-10-11  \n",
       "8125  A cheerful jet and his transforming pals striv... 2020-12-01  \n",
       "8132  As more women come forward with harrowing accu... 2020-04-13  \n",
       "\n",
       "[436 rows x 13 columns]"
      ]
     },
     "execution_count": 44,
     "metadata": {},
     "output_type": "execute_result"
    }
   ],
   "source": [
    "df[(df[\"type\"]==\"TV Show\") & (df[\"release_year\"]==2020)]"
   ]
  },
  {
   "cell_type": "markdown",
   "id": "3099e8e8",
   "metadata": {},
   "source": [
    "## Ratings "
   ]
  },
  {
   "cell_type": "code",
   "execution_count": 47,
   "id": "af968c15",
   "metadata": {
    "ExecuteTime": {
     "end_time": "2022-09-02T19:14:40.217603Z",
     "start_time": "2022-09-02T19:14:40.202419Z"
    }
   },
   "outputs": [
    {
     "data": {
      "text/plain": [
       "array(['PG-13', 'TV-MA', 'PG', 'TV-14', 'TV-PG', 'TV-Y', 'TV-Y7', 'R',\n",
       "       'TV-G', 'G', 'NC-17', '74 min', '84 min', '66 min', 'NR', nan,\n",
       "       'TV-Y7-FV', 'UR'], dtype=object)"
      ]
     },
     "execution_count": 47,
     "metadata": {},
     "output_type": "execute_result"
    }
   ],
   "source": [
    "df['rating'].unique()"
   ]
  },
  {
   "cell_type": "code",
   "execution_count": 48,
   "id": "38816f4b",
   "metadata": {
    "ExecuteTime": {
     "end_time": "2022-09-02T19:15:09.222372Z",
     "start_time": "2022-09-02T19:15:08.991635Z"
    }
   },
   "outputs": [
    {
     "data": {
      "image/png": "[encoded data removed]",
      "text/plain": [
       "<Figure size 432x288 with 1 Axes>"
      ]
     },
     "metadata": {
      "needs_background": "light"
     },
     "output_type": "display_data"
    }
   ],
   "source": [
    "sns.countplot(df['rating'])\n",
    "plt.show()"
   ]
  },
  {
   "cell_type": "markdown",
   "id": "7d67b1ca",
   "metadata": {},
   "source": [
    "## Durations"
   ]
  },
  {
   "cell_type": "code",
   "execution_count": 52,
   "id": "6d63c4cf",
   "metadata": {
    "ExecuteTime": {
     "end_time": "2022-09-02T19:16:47.163926Z",
     "start_time": "2022-09-02T19:16:47.124554Z"
    }
   },
   "outputs": [],
   "source": [
    "df[[\"Minutes\",\"unit\"]] = df[\"duration\"].str.split(' ' , expand = True)"
   ]
  },
  {
   "cell_type": "code",
   "execution_count": 53,
   "id": "58a1f25c",
   "metadata": {
    "ExecuteTime": {
     "end_time": "2022-09-02T19:16:51.197051Z",
     "start_time": "2022-09-02T19:16:51.174633Z"
    }
   },
   "outputs": [
    {
     "data": {
      "text/html": [
       "<div>\n",
       "<style scoped>\n",
       "    .dataframe tbody tr th:only-of-type {\n",
       "        vertical-align: middle;\n",
       "    }\n",
       "\n",
       "    .dataframe tbody tr th {\n",
       "        vertical-align: top;\n",
       "    }\n",
       "\n",
       "    .dataframe thead th {\n",
       "        text-align: right;\n",
       "    }\n",
       "</style>\n",
       "<table border=\"1\" class=\"dataframe\">\n",
       "  <thead>\n",
       "    <tr style=\"text-align: right;\">\n",
       "      <th></th>\n",
       "      <th>show_id</th>\n",
       "      <th>type</th>\n",
       "      <th>title</th>\n",
       "      <th>director</th>\n",
       "      <th>cast</th>\n",
       "      <th>country</th>\n",
       "      <th>date_added</th>\n",
       "      <th>release_year</th>\n",
       "      <th>rating</th>\n",
       "      <th>duration</th>\n",
       "      <th>listed_in</th>\n",
       "      <th>description</th>\n",
       "      <th>Dates</th>\n",
       "      <th>Minutes</th>\n",
       "      <th>unit</th>\n",
       "    </tr>\n",
       "  </thead>\n",
       "  <tbody>\n",
       "    <tr>\n",
       "      <th>0</th>\n",
       "      <td>s1</td>\n",
       "      <td>Movie</td>\n",
       "      <td>Dick Johnson Is Dead</td>\n",
       "      <td>Kirsten Johnson</td>\n",
       "      <td>NaN</td>\n",
       "      <td>United States</td>\n",
       "      <td>September 25, 2021</td>\n",
       "      <td>2020</td>\n",
       "      <td>PG-13</td>\n",
       "      <td>90 min</td>\n",
       "      <td>Documentaries</td>\n",
       "      <td>As her father nears the end of his life, filmm...</td>\n",
       "      <td>2021-09-25</td>\n",
       "      <td>90</td>\n",
       "      <td>min</td>\n",
       "    </tr>\n",
       "    <tr>\n",
       "      <th>1</th>\n",
       "      <td>s2</td>\n",
       "      <td>TV Show</td>\n",
       "      <td>Blood &amp; Water</td>\n",
       "      <td>NaN</td>\n",
       "      <td>Ama Qamata, Khosi Ngema, Gail Mabalane, Thaban...</td>\n",
       "      <td>South Africa</td>\n",
       "      <td>September 24, 2021</td>\n",
       "      <td>2021</td>\n",
       "      <td>TV-MA</td>\n",
       "      <td>2 Seasons</td>\n",
       "      <td>International TV Shows, TV Dramas, TV Mysteries</td>\n",
       "      <td>After crossing paths at a party, a Cape Town t...</td>\n",
       "      <td>2021-09-24</td>\n",
       "      <td>2</td>\n",
       "      <td>Seasons</td>\n",
       "    </tr>\n",
       "    <tr>\n",
       "      <th>2</th>\n",
       "      <td>s3</td>\n",
       "      <td>TV Show</td>\n",
       "      <td>Ganglands</td>\n",
       "      <td>Julien Leclercq</td>\n",
       "      <td>Sami Bouajila, Tracy Gotoas, Samuel Jouy, Nabi...</td>\n",
       "      <td>NaN</td>\n",
       "      <td>September 24, 2021</td>\n",
       "      <td>2021</td>\n",
       "      <td>TV-MA</td>\n",
       "      <td>1 Season</td>\n",
       "      <td>Crime TV Shows, International TV Shows, TV Act...</td>\n",
       "      <td>To protect his family from a powerful drug lor...</td>\n",
       "      <td>2021-09-24</td>\n",
       "      <td>1</td>\n",
       "      <td>Season</td>\n",
       "    </tr>\n",
       "    <tr>\n",
       "      <th>3</th>\n",
       "      <td>s4</td>\n",
       "      <td>TV Show</td>\n",
       "      <td>Jailbirds New Orleans</td>\n",
       "      <td>NaN</td>\n",
       "      <td>NaN</td>\n",
       "      <td>NaN</td>\n",
       "      <td>September 24, 2021</td>\n",
       "      <td>2021</td>\n",
       "      <td>TV-MA</td>\n",
       "      <td>1 Season</td>\n",
       "      <td>Docuseries, Reality TV</td>\n",
       "      <td>Feuds, flirtations and toilet talk go down amo...</td>\n",
       "      <td>2021-09-24</td>\n",
       "      <td>1</td>\n",
       "      <td>Season</td>\n",
       "    </tr>\n",
       "    <tr>\n",
       "      <th>4</th>\n",
       "      <td>s5</td>\n",
       "      <td>TV Show</td>\n",
       "      <td>Kota Factory</td>\n",
       "      <td>NaN</td>\n",
       "      <td>Mayur More, Jitendra Kumar, Ranjan Raj, Alam K...</td>\n",
       "      <td>India</td>\n",
       "      <td>September 24, 2021</td>\n",
       "      <td>2021</td>\n",
       "      <td>TV-MA</td>\n",
       "      <td>2 Seasons</td>\n",
       "      <td>International TV Shows, Romantic TV Shows, TV ...</td>\n",
       "      <td>In a city of coaching centers known to train I...</td>\n",
       "      <td>2021-09-24</td>\n",
       "      <td>2</td>\n",
       "      <td>Seasons</td>\n",
       "    </tr>\n",
       "  </tbody>\n",
       "</table>\n",
       "</div>"
      ],
      "text/plain": [
       "  show_id     type                  title         director  \\\n",
       "0      s1    Movie   Dick Johnson Is Dead  Kirsten Johnson   \n",
       "1      s2  TV Show          Blood & Water              NaN   \n",
       "2      s3  TV Show              Ganglands  Julien Leclercq   \n",
       "3      s4  TV Show  Jailbirds New Orleans              NaN   \n",
       "4      s5  TV Show           Kota Factory              NaN   \n",
       "\n",
       "                                                cast        country  \\\n",
       "0                                                NaN  United States   \n",
       "1  Ama Qamata, Khosi Ngema, Gail Mabalane, Thaban...   South Africa   \n",
       "2  Sami Bouajila, Tracy Gotoas, Samuel Jouy, Nabi...            NaN   \n",
       "3                                                NaN            NaN   \n",
       "4  Mayur More, Jitendra Kumar, Ranjan Raj, Alam K...          India   \n",
       "\n",
       "           date_added  release_year rating   duration  \\\n",
       "0  September 25, 2021          2020  PG-13     90 min   \n",
       "1  September 24, 2021          2021  TV-MA  2 Seasons   \n",
       "2  September 24, 2021          2021  TV-MA   1 Season   \n",
       "3  September 24, 2021          2021  TV-MA   1 Season   \n",
       "4  September 24, 2021          2021  TV-MA  2 Seasons   \n",
       "\n",
       "                                           listed_in  \\\n",
       "0                                      Documentaries   \n",
       "1    International TV Shows, TV Dramas, TV Mysteries   \n",
       "2  Crime TV Shows, International TV Shows, TV Act...   \n",
       "3                             Docuseries, Reality TV   \n",
       "4  International TV Shows, Romantic TV Shows, TV ...   \n",
       "\n",
       "                                         description      Dates Minutes  \\\n",
       "0  As her father nears the end of his life, filmm... 2021-09-25      90   \n",
       "1  After crossing paths at a party, a Cape Town t... 2021-09-24       2   \n",
       "2  To protect his family from a powerful drug lor... 2021-09-24       1   \n",
       "3  Feuds, flirtations and toilet talk go down amo... 2021-09-24       1   \n",
       "4  In a city of coaching centers known to train I... 2021-09-24       2   \n",
       "\n",
       "      unit  \n",
       "0      min  \n",
       "1  Seasons  \n",
       "2   Season  \n",
       "3   Season  \n",
       "4  Seasons  "
      ]
     },
     "execution_count": 53,
     "metadata": {},
     "output_type": "execute_result"
    }
   ],
   "source": [
    "df.head()"
   ]
  },
  {
   "cell_type": "code",
   "execution_count": 54,
   "id": "959d6811",
   "metadata": {
    "ExecuteTime": {
     "end_time": "2022-09-02T19:17:42.369943Z",
     "start_time": "2022-09-02T19:17:42.355376Z"
    }
   },
   "outputs": [
    {
     "data": {
      "text/plain": [
       "8804"
      ]
     },
     "execution_count": 54,
     "metadata": {},
     "output_type": "execute_result"
    }
   ],
   "source": [
    "df[\"Minutes\"].count()"
   ]
  },
  {
   "cell_type": "markdown",
   "id": "03fe5f84",
   "metadata": {},
   "source": [
    "# TV Shows"
   ]
  },
  {
   "cell_type": "code",
   "execution_count": 45,
   "id": "0146cb4e",
   "metadata": {
    "ExecuteTime": {
     "end_time": "2022-09-02T19:13:14.543600Z",
     "start_time": "2022-09-02T19:13:14.503877Z"
    },
    "scrolled": false
   },
   "outputs": [
    {
     "data": {
      "text/html": [
       "<div>\n",
       "<style scoped>\n",
       "    .dataframe tbody tr th:only-of-type {\n",
       "        vertical-align: middle;\n",
       "    }\n",
       "\n",
       "    .dataframe tbody tr th {\n",
       "        vertical-align: top;\n",
       "    }\n",
       "\n",
       "    .dataframe thead th {\n",
       "        text-align: right;\n",
       "    }\n",
       "</style>\n",
       "<table border=\"1\" class=\"dataframe\">\n",
       "  <thead>\n",
       "    <tr style=\"text-align: right;\">\n",
       "      <th></th>\n",
       "      <th>show_id</th>\n",
       "      <th>type</th>\n",
       "      <th>title</th>\n",
       "      <th>director</th>\n",
       "      <th>cast</th>\n",
       "      <th>country</th>\n",
       "      <th>date_added</th>\n",
       "      <th>release_year</th>\n",
       "      <th>rating</th>\n",
       "      <th>duration</th>\n",
       "      <th>listed_in</th>\n",
       "      <th>description</th>\n",
       "      <th>Dates</th>\n",
       "    </tr>\n",
       "  </thead>\n",
       "  <tbody>\n",
       "    <tr>\n",
       "      <th>4</th>\n",
       "      <td>s5</td>\n",
       "      <td>TV Show</td>\n",
       "      <td>Kota Factory</td>\n",
       "      <td>NaN</td>\n",
       "      <td>Mayur More, Jitendra Kumar, Ranjan Raj, Alam K...</td>\n",
       "      <td>India</td>\n",
       "      <td>September 24, 2021</td>\n",
       "      <td>2021</td>\n",
       "      <td>TV-MA</td>\n",
       "      <td>2 Seasons</td>\n",
       "      <td>International TV Shows, Romantic TV Shows, TV ...</td>\n",
       "      <td>In a city of coaching centers known to train I...</td>\n",
       "      <td>2021-09-24</td>\n",
       "    </tr>\n",
       "    <tr>\n",
       "      <th>39</th>\n",
       "      <td>s40</td>\n",
       "      <td>TV Show</td>\n",
       "      <td>Chhota Bheem</td>\n",
       "      <td>NaN</td>\n",
       "      <td>Vatsal Dubey, Julie Tejwani, Rupa Bhimani, Jig...</td>\n",
       "      <td>India</td>\n",
       "      <td>September 16, 2021</td>\n",
       "      <td>2021</td>\n",
       "      <td>TV-Y7</td>\n",
       "      <td>3 Seasons</td>\n",
       "      <td>Kids' TV</td>\n",
       "      <td>A brave, energetic little boy with superhuman ...</td>\n",
       "      <td>2021-09-16</td>\n",
       "    </tr>\n",
       "    <tr>\n",
       "      <th>50</th>\n",
       "      <td>s51</td>\n",
       "      <td>TV Show</td>\n",
       "      <td>Dharmakshetra</td>\n",
       "      <td>NaN</td>\n",
       "      <td>Kashmira Irani, Chandan Anand, Dinesh Mehta, A...</td>\n",
       "      <td>India</td>\n",
       "      <td>September 15, 2021</td>\n",
       "      <td>2014</td>\n",
       "      <td>TV-PG</td>\n",
       "      <td>1 Season</td>\n",
       "      <td>International TV Shows, TV Dramas, TV Sci-Fi &amp;...</td>\n",
       "      <td>After the ancient Great War, the god Chitragup...</td>\n",
       "      <td>2021-09-15</td>\n",
       "    </tr>\n",
       "    <tr>\n",
       "      <th>66</th>\n",
       "      <td>s67</td>\n",
       "      <td>TV Show</td>\n",
       "      <td>Raja Rasoi Aur Anya Kahaniyan</td>\n",
       "      <td>NaN</td>\n",
       "      <td>NaN</td>\n",
       "      <td>India</td>\n",
       "      <td>September 15, 2021</td>\n",
       "      <td>2014</td>\n",
       "      <td>TV-G</td>\n",
       "      <td>1 Season</td>\n",
       "      <td>Docuseries, International TV Shows</td>\n",
       "      <td>Explore the history and flavors of regional In...</td>\n",
       "      <td>2021-09-15</td>\n",
       "    </tr>\n",
       "    <tr>\n",
       "      <th>69</th>\n",
       "      <td>s70</td>\n",
       "      <td>TV Show</td>\n",
       "      <td>Stories by Rabindranath Tagore</td>\n",
       "      <td>NaN</td>\n",
       "      <td>NaN</td>\n",
       "      <td>India</td>\n",
       "      <td>September 15, 2021</td>\n",
       "      <td>2015</td>\n",
       "      <td>TV-PG</td>\n",
       "      <td>1 Season</td>\n",
       "      <td>International TV Shows, TV Dramas</td>\n",
       "      <td>The writings of Nobel Prize winner Rabindranat...</td>\n",
       "      <td>2021-09-15</td>\n",
       "    </tr>\n",
       "    <tr>\n",
       "      <th>...</th>\n",
       "      <td>...</td>\n",
       "      <td>...</td>\n",
       "      <td>...</td>\n",
       "      <td>...</td>\n",
       "      <td>...</td>\n",
       "      <td>...</td>\n",
       "      <td>...</td>\n",
       "      <td>...</td>\n",
       "      <td>...</td>\n",
       "      <td>...</td>\n",
       "      <td>...</td>\n",
       "      <td>...</td>\n",
       "      <td>...</td>\n",
       "    </tr>\n",
       "    <tr>\n",
       "      <th>8173</th>\n",
       "      <td>s8174</td>\n",
       "      <td>TV Show</td>\n",
       "      <td>Thackeray</td>\n",
       "      <td>NaN</td>\n",
       "      <td>NaN</td>\n",
       "      <td>India</td>\n",
       "      <td>May 25, 2019</td>\n",
       "      <td>2019</td>\n",
       "      <td>TV-MA</td>\n",
       "      <td>1 Season</td>\n",
       "      <td>TV Shows</td>\n",
       "      <td>From controversial cartoonist to powerful Mumb...</td>\n",
       "      <td>2019-05-25</td>\n",
       "    </tr>\n",
       "    <tr>\n",
       "      <th>8235</th>\n",
       "      <td>s8236</td>\n",
       "      <td>TV Show</td>\n",
       "      <td>The Calling</td>\n",
       "      <td>Bumpy</td>\n",
       "      <td>NaN</td>\n",
       "      <td>India</td>\n",
       "      <td>April 1, 2019</td>\n",
       "      <td>2018</td>\n",
       "      <td>TV-MA</td>\n",
       "      <td>1 Season</td>\n",
       "      <td>International TV Shows, Reality TV</td>\n",
       "      <td>Food-crazed travel junkies journey across Indi...</td>\n",
       "      <td>2019-04-01</td>\n",
       "    </tr>\n",
       "    <tr>\n",
       "      <th>8321</th>\n",
       "      <td>s8322</td>\n",
       "      <td>TV Show</td>\n",
       "      <td>The Golden Years with Javed Akhtar</td>\n",
       "      <td>NaN</td>\n",
       "      <td>NaN</td>\n",
       "      <td>India</td>\n",
       "      <td>June 1, 2017</td>\n",
       "      <td>2016</td>\n",
       "      <td>TV-G</td>\n",
       "      <td>1 Season</td>\n",
       "      <td>Docuseries, International TV Shows</td>\n",
       "      <td>Writer, poet and lyricist Javed Akhtar hosts t...</td>\n",
       "      <td>2017-06-01</td>\n",
       "    </tr>\n",
       "    <tr>\n",
       "      <th>8349</th>\n",
       "      <td>s8350</td>\n",
       "      <td>TV Show</td>\n",
       "      <td>The House That Made Me</td>\n",
       "      <td>NaN</td>\n",
       "      <td>Vinay Pathak</td>\n",
       "      <td>India</td>\n",
       "      <td>March 31, 2017</td>\n",
       "      <td>2015</td>\n",
       "      <td>TV-PG</td>\n",
       "      <td>3 Seasons</td>\n",
       "      <td>International TV Shows, Reality TV</td>\n",
       "      <td>With host Vinay Pathak, Indian celebrities ret...</td>\n",
       "      <td>2017-03-31</td>\n",
       "    </tr>\n",
       "    <tr>\n",
       "      <th>8775</th>\n",
       "      <td>s8776</td>\n",
       "      <td>TV Show</td>\n",
       "      <td>Yeh Meri Family</td>\n",
       "      <td>NaN</td>\n",
       "      <td>Vishesh Bansal, Mona Singh, Akarsh Khurana, Ah...</td>\n",
       "      <td>India</td>\n",
       "      <td>August 31, 2018</td>\n",
       "      <td>2018</td>\n",
       "      <td>TV-PG</td>\n",
       "      <td>1 Season</td>\n",
       "      <td>International TV Shows, TV Comedies</td>\n",
       "      <td>In the summer of 1998, middle child Harshu bal...</td>\n",
       "      <td>2018-08-31</td>\n",
       "    </tr>\n",
       "  </tbody>\n",
       "</table>\n",
       "<p>79 rows × 13 columns</p>\n",
       "</div>"
      ],
      "text/plain": [
       "     show_id     type                               title director  \\\n",
       "4         s5  TV Show                        Kota Factory      NaN   \n",
       "39       s40  TV Show                        Chhota Bheem      NaN   \n",
       "50       s51  TV Show                       Dharmakshetra      NaN   \n",
       "66       s67  TV Show       Raja Rasoi Aur Anya Kahaniyan      NaN   \n",
       "69       s70  TV Show      Stories by Rabindranath Tagore      NaN   \n",
       "...      ...      ...                                 ...      ...   \n",
       "8173   s8174  TV Show                           Thackeray      NaN   \n",
       "8235   s8236  TV Show                         The Calling    Bumpy   \n",
       "8321   s8322  TV Show  The Golden Years with Javed Akhtar      NaN   \n",
       "8349   s8350  TV Show              The House That Made Me      NaN   \n",
       "8775   s8776  TV Show                     Yeh Meri Family      NaN   \n",
       "\n",
       "                                                   cast country  \\\n",
       "4     Mayur More, Jitendra Kumar, Ranjan Raj, Alam K...   India   \n",
       "39    Vatsal Dubey, Julie Tejwani, Rupa Bhimani, Jig...   India   \n",
       "50    Kashmira Irani, Chandan Anand, Dinesh Mehta, A...   India   \n",
       "66                                                  NaN   India   \n",
       "69                                                  NaN   India   \n",
       "...                                                 ...     ...   \n",
       "8173                                                NaN   India   \n",
       "8235                                                NaN   India   \n",
       "8321                                                NaN   India   \n",
       "8349                                       Vinay Pathak   India   \n",
       "8775  Vishesh Bansal, Mona Singh, Akarsh Khurana, Ah...   India   \n",
       "\n",
       "              date_added  release_year rating   duration  \\\n",
       "4     September 24, 2021          2021  TV-MA  2 Seasons   \n",
       "39    September 16, 2021          2021  TV-Y7  3 Seasons   \n",
       "50    September 15, 2021          2014  TV-PG   1 Season   \n",
       "66    September 15, 2021          2014   TV-G   1 Season   \n",
       "69    September 15, 2021          2015  TV-PG   1 Season   \n",
       "...                  ...           ...    ...        ...   \n",
       "8173        May 25, 2019          2019  TV-MA   1 Season   \n",
       "8235       April 1, 2019          2018  TV-MA   1 Season   \n",
       "8321        June 1, 2017          2016   TV-G   1 Season   \n",
       "8349      March 31, 2017          2015  TV-PG  3 Seasons   \n",
       "8775     August 31, 2018          2018  TV-PG   1 Season   \n",
       "\n",
       "                                              listed_in  \\\n",
       "4     International TV Shows, Romantic TV Shows, TV ...   \n",
       "39                                             Kids' TV   \n",
       "50    International TV Shows, TV Dramas, TV Sci-Fi &...   \n",
       "66                   Docuseries, International TV Shows   \n",
       "69                    International TV Shows, TV Dramas   \n",
       "...                                                 ...   \n",
       "8173                                           TV Shows   \n",
       "8235                 International TV Shows, Reality TV   \n",
       "8321                 Docuseries, International TV Shows   \n",
       "8349                 International TV Shows, Reality TV   \n",
       "8775                International TV Shows, TV Comedies   \n",
       "\n",
       "                                            description      Dates  \n",
       "4     In a city of coaching centers known to train I... 2021-09-24  \n",
       "39    A brave, energetic little boy with superhuman ... 2021-09-16  \n",
       "50    After the ancient Great War, the god Chitragup... 2021-09-15  \n",
       "66    Explore the history and flavors of regional In... 2021-09-15  \n",
       "69    The writings of Nobel Prize winner Rabindranat... 2021-09-15  \n",
       "...                                                 ...        ...  \n",
       "8173  From controversial cartoonist to powerful Mumb... 2019-05-25  \n",
       "8235  Food-crazed travel junkies journey across Indi... 2019-04-01  \n",
       "8321  Writer, poet and lyricist Javed Akhtar hosts t... 2017-06-01  \n",
       "8349  With host Vinay Pathak, Indian celebrities ret... 2017-03-31  \n",
       "8775  In the summer of 1998, middle child Harshu bal... 2018-08-31  \n",
       "\n",
       "[79 rows x 13 columns]"
      ]
     },
     "execution_count": 45,
     "metadata": {},
     "output_type": "execute_result"
    }
   ],
   "source": [
    "df[(df[\"type\"]==\"TV Show\") & (df[\"country\"]=='India')]"
   ]
  },
  {
   "cell_type": "code",
   "execution_count": 59,
   "id": "3cf26c1d",
   "metadata": {
    "ExecuteTime": {
     "end_time": "2022-09-02T19:19:26.729995Z",
     "start_time": "2022-09-02T19:19:26.690373Z"
    }
   },
   "outputs": [
    {
     "data": {
      "text/html": [
       "<div>\n",
       "<style scoped>\n",
       "    .dataframe tbody tr th:only-of-type {\n",
       "        vertical-align: middle;\n",
       "    }\n",
       "\n",
       "    .dataframe tbody tr th {\n",
       "        vertical-align: top;\n",
       "    }\n",
       "\n",
       "    .dataframe thead th {\n",
       "        text-align: right;\n",
       "    }\n",
       "</style>\n",
       "<table border=\"1\" class=\"dataframe\">\n",
       "  <thead>\n",
       "    <tr style=\"text-align: right;\">\n",
       "      <th></th>\n",
       "      <th>show_id</th>\n",
       "      <th>type</th>\n",
       "      <th>title</th>\n",
       "      <th>director</th>\n",
       "      <th>cast</th>\n",
       "      <th>country</th>\n",
       "      <th>date_added</th>\n",
       "      <th>release_year</th>\n",
       "      <th>rating</th>\n",
       "      <th>duration</th>\n",
       "      <th>listed_in</th>\n",
       "      <th>description</th>\n",
       "      <th>Dates</th>\n",
       "      <th>Minutes</th>\n",
       "      <th>unit</th>\n",
       "    </tr>\n",
       "  </thead>\n",
       "  <tbody>\n",
       "    <tr>\n",
       "      <th>1</th>\n",
       "      <td>s2</td>\n",
       "      <td>TV Show</td>\n",
       "      <td>Blood &amp; Water</td>\n",
       "      <td>NaN</td>\n",
       "      <td>Ama Qamata, Khosi Ngema, Gail Mabalane, Thaban...</td>\n",
       "      <td>South Africa</td>\n",
       "      <td>September 24, 2021</td>\n",
       "      <td>2021</td>\n",
       "      <td>TV-MA</td>\n",
       "      <td>2 Seasons</td>\n",
       "      <td>International TV Shows, TV Dramas, TV Mysteries</td>\n",
       "      <td>After crossing paths at a party, a Cape Town t...</td>\n",
       "      <td>2021-09-24</td>\n",
       "      <td>2</td>\n",
       "      <td>Seasons</td>\n",
       "    </tr>\n",
       "    <tr>\n",
       "      <th>2</th>\n",
       "      <td>s3</td>\n",
       "      <td>TV Show</td>\n",
       "      <td>Ganglands</td>\n",
       "      <td>Julien Leclercq</td>\n",
       "      <td>Sami Bouajila, Tracy Gotoas, Samuel Jouy, Nabi...</td>\n",
       "      <td>NaN</td>\n",
       "      <td>September 24, 2021</td>\n",
       "      <td>2021</td>\n",
       "      <td>TV-MA</td>\n",
       "      <td>1 Season</td>\n",
       "      <td>Crime TV Shows, International TV Shows, TV Act...</td>\n",
       "      <td>To protect his family from a powerful drug lor...</td>\n",
       "      <td>2021-09-24</td>\n",
       "      <td>1</td>\n",
       "      <td>Season</td>\n",
       "    </tr>\n",
       "    <tr>\n",
       "      <th>3</th>\n",
       "      <td>s4</td>\n",
       "      <td>TV Show</td>\n",
       "      <td>Jailbirds New Orleans</td>\n",
       "      <td>NaN</td>\n",
       "      <td>NaN</td>\n",
       "      <td>NaN</td>\n",
       "      <td>September 24, 2021</td>\n",
       "      <td>2021</td>\n",
       "      <td>TV-MA</td>\n",
       "      <td>1 Season</td>\n",
       "      <td>Docuseries, Reality TV</td>\n",
       "      <td>Feuds, flirtations and toilet talk go down amo...</td>\n",
       "      <td>2021-09-24</td>\n",
       "      <td>1</td>\n",
       "      <td>Season</td>\n",
       "    </tr>\n",
       "    <tr>\n",
       "      <th>4</th>\n",
       "      <td>s5</td>\n",
       "      <td>TV Show</td>\n",
       "      <td>Kota Factory</td>\n",
       "      <td>NaN</td>\n",
       "      <td>Mayur More, Jitendra Kumar, Ranjan Raj, Alam K...</td>\n",
       "      <td>India</td>\n",
       "      <td>September 24, 2021</td>\n",
       "      <td>2021</td>\n",
       "      <td>TV-MA</td>\n",
       "      <td>2 Seasons</td>\n",
       "      <td>International TV Shows, Romantic TV Shows, TV ...</td>\n",
       "      <td>In a city of coaching centers known to train I...</td>\n",
       "      <td>2021-09-24</td>\n",
       "      <td>2</td>\n",
       "      <td>Seasons</td>\n",
       "    </tr>\n",
       "    <tr>\n",
       "      <th>5</th>\n",
       "      <td>s6</td>\n",
       "      <td>TV Show</td>\n",
       "      <td>Midnight Mass</td>\n",
       "      <td>Mike Flanagan</td>\n",
       "      <td>Kate Siegel, Zach Gilford, Hamish Linklater, H...</td>\n",
       "      <td>NaN</td>\n",
       "      <td>September 24, 2021</td>\n",
       "      <td>2021</td>\n",
       "      <td>TV-MA</td>\n",
       "      <td>1 Season</td>\n",
       "      <td>TV Dramas, TV Horror, TV Mysteries</td>\n",
       "      <td>The arrival of a charismatic young priest brin...</td>\n",
       "      <td>2021-09-24</td>\n",
       "      <td>1</td>\n",
       "      <td>Season</td>\n",
       "    </tr>\n",
       "  </tbody>\n",
       "</table>\n",
       "</div>"
      ],
      "text/plain": [
       "  show_id     type                  title         director  \\\n",
       "1      s2  TV Show          Blood & Water              NaN   \n",
       "2      s3  TV Show              Ganglands  Julien Leclercq   \n",
       "3      s4  TV Show  Jailbirds New Orleans              NaN   \n",
       "4      s5  TV Show           Kota Factory              NaN   \n",
       "5      s6  TV Show          Midnight Mass    Mike Flanagan   \n",
       "\n",
       "                                                cast       country  \\\n",
       "1  Ama Qamata, Khosi Ngema, Gail Mabalane, Thaban...  South Africa   \n",
       "2  Sami Bouajila, Tracy Gotoas, Samuel Jouy, Nabi...           NaN   \n",
       "3                                                NaN           NaN   \n",
       "4  Mayur More, Jitendra Kumar, Ranjan Raj, Alam K...         India   \n",
       "5  Kate Siegel, Zach Gilford, Hamish Linklater, H...           NaN   \n",
       "\n",
       "           date_added  release_year rating   duration  \\\n",
       "1  September 24, 2021          2021  TV-MA  2 Seasons   \n",
       "2  September 24, 2021          2021  TV-MA   1 Season   \n",
       "3  September 24, 2021          2021  TV-MA   1 Season   \n",
       "4  September 24, 2021          2021  TV-MA  2 Seasons   \n",
       "5  September 24, 2021          2021  TV-MA   1 Season   \n",
       "\n",
       "                                           listed_in  \\\n",
       "1    International TV Shows, TV Dramas, TV Mysteries   \n",
       "2  Crime TV Shows, International TV Shows, TV Act...   \n",
       "3                             Docuseries, Reality TV   \n",
       "4  International TV Shows, Romantic TV Shows, TV ...   \n",
       "5                 TV Dramas, TV Horror, TV Mysteries   \n",
       "\n",
       "                                         description      Dates Minutes  \\\n",
       "1  After crossing paths at a party, a Cape Town t... 2021-09-24       2   \n",
       "2  To protect his family from a powerful drug lor... 2021-09-24       1   \n",
       "3  Feuds, flirtations and toilet talk go down amo... 2021-09-24       1   \n",
       "4  In a city of coaching centers known to train I... 2021-09-24       2   \n",
       "5  The arrival of a charismatic young priest brin... 2021-09-24       1   \n",
       "\n",
       "      unit  \n",
       "1  Seasons  \n",
       "2   Season  \n",
       "3   Season  \n",
       "4  Seasons  \n",
       "5   Season  "
      ]
     },
     "execution_count": 59,
     "metadata": {},
     "output_type": "execute_result"
    }
   ],
   "source": [
    "tv_show = df[df[\"type\"]==\"TV Show\"]\n",
    "tv_show.head()"
   ]
  },
  {
   "cell_type": "code",
   "execution_count": 46,
   "id": "b435f95a",
   "metadata": {
    "ExecuteTime": {
     "end_time": "2022-09-02T19:14:13.574521Z",
     "start_time": "2022-09-02T19:14:13.558651Z"
    }
   },
   "outputs": [
    {
     "data": {
      "text/plain": [
       "79"
      ]
     },
     "execution_count": 46,
     "metadata": {},
     "output_type": "execute_result"
    }
   ],
   "source": [
    "df[(df[\"type\"]==\"TV Show\") & (df[\"country\"]=='India')][\"title\"].count()"
   ]
  },
  {
   "cell_type": "markdown",
   "id": "49cffec2",
   "metadata": {},
   "source": [
    "Most TV Shows"
   ]
  },
  {
   "cell_type": "code",
   "execution_count": 60,
   "id": "a576b6ff",
   "metadata": {
    "ExecuteTime": {
     "end_time": "2022-09-02T19:19:53.454475Z",
     "start_time": "2022-09-02T19:19:53.431043Z"
    }
   },
   "outputs": [
    {
     "data": {
      "text/plain": [
       "United States                                    760\n",
       "United Kingdom                                   213\n",
       "Japan                                            169\n",
       "South Korea                                      158\n",
       "India                                             79\n",
       "                                                ... \n",
       "Belarus                                            1\n",
       "United Kingdom, Australia                          1\n",
       "France, Australia, Germany                         1\n",
       "Australia, New Zealand, United States              1\n",
       "United States, France, South Korea, Indonesia      1\n",
       "Name: country, Length: 196, dtype: int64"
      ]
     },
     "execution_count": 60,
     "metadata": {},
     "output_type": "execute_result"
    }
   ],
   "source": [
    "tv_show[\"country\"].value_counts()"
   ]
  },
  {
   "cell_type": "code",
   "execution_count": 62,
   "id": "e2c2877b",
   "metadata": {
    "ExecuteTime": {
     "end_time": "2022-09-02T19:20:48.673647Z",
     "start_time": "2022-09-02T19:20:48.651247Z"
    }
   },
   "outputs": [
    {
     "data": {
      "text/plain": [
       "196"
      ]
     },
     "execution_count": 62,
     "metadata": {},
     "output_type": "execute_result"
    }
   ],
   "source": [
    "tv_show[\"country\"].nunique()"
   ]
  },
  {
   "cell_type": "code",
   "execution_count": 63,
   "id": "4749111d",
   "metadata": {
    "ExecuteTime": {
     "end_time": "2022-09-02T19:21:54.601395Z",
     "start_time": "2022-09-02T19:21:54.585916Z"
    }
   },
   "outputs": [],
   "source": [
    "top10_country = tv_show[\"country\"].value_counts().head(10)"
   ]
  },
  {
   "cell_type": "code",
   "execution_count": 64,
   "id": "b910ad43",
   "metadata": {
    "ExecuteTime": {
     "end_time": "2022-09-02T19:22:25.273203Z",
     "start_time": "2022-09-02T19:22:25.249060Z"
    }
   },
   "outputs": [],
   "source": [
    "dict_top10 = dict(top10_country)"
   ]
  },
  {
   "cell_type": "code",
   "execution_count": 66,
   "id": "6d4966a6",
   "metadata": {
    "ExecuteTime": {
     "end_time": "2022-09-02T19:26:36.371555Z",
     "start_time": "2022-09-02T19:26:36.360694Z"
    }
   },
   "outputs": [],
   "source": [
    "labels = list(dict_top10.keys())"
   ]
  },
  {
   "cell_type": "code",
   "execution_count": 67,
   "id": "5936daca",
   "metadata": {
    "ExecuteTime": {
     "end_time": "2022-09-02T19:26:55.167414Z",
     "start_time": "2022-09-02T19:26:55.158430Z"
    }
   },
   "outputs": [],
   "source": [
    "values = list(dict_top10.values())"
   ]
  },
  {
   "cell_type": "code",
   "execution_count": 70,
   "id": "ece59ff6",
   "metadata": {
    "ExecuteTime": {
     "end_time": "2022-09-02T19:28:20.529599Z",
     "start_time": "2022-09-02T19:28:20.419843Z"
    }
   },
   "outputs": [
    {
     "data": {
      "image/png": "[encoded data removed]",
      "text/plain": [
       "<Figure size 432x288 with 1 Axes>"
      ]
     },
     "metadata": {},
     "output_type": "display_data"
    }
   ],
   "source": [
    "explode = [0.1,0,0,0,0,0,0,0,0,0]\n",
    "plt.title(\"Most TV shows\")\n",
    "wedgeprops = {\"linewidth\":2 , \"edgecolor\":'w'}\n",
    "textprops = {\"fontsize\":12}\n",
    "plt.pie(values , labels=labels ,shadow=True,explode=explode, wedgeprops=wedgeprops ,textprops=textprops )\n",
    "plt.show()"
   ]
  },
  {
   "cell_type": "markdown",
   "id": "f2438764",
   "metadata": {},
   "source": [
    "# Movies"
   ]
  },
  {
   "cell_type": "code",
   "execution_count": 71,
   "id": "56510301",
   "metadata": {
    "ExecuteTime": {
     "end_time": "2022-09-02T19:29:37.158110Z",
     "start_time": "2022-09-02T19:29:37.129486Z"
    }
   },
   "outputs": [
    {
     "data": {
      "text/html": [
       "<div>\n",
       "<style scoped>\n",
       "    .dataframe tbody tr th:only-of-type {\n",
       "        vertical-align: middle;\n",
       "    }\n",
       "\n",
       "    .dataframe tbody tr th {\n",
       "        vertical-align: top;\n",
       "    }\n",
       "\n",
       "    .dataframe thead th {\n",
       "        text-align: right;\n",
       "    }\n",
       "</style>\n",
       "<table border=\"1\" class=\"dataframe\">\n",
       "  <thead>\n",
       "    <tr style=\"text-align: right;\">\n",
       "      <th></th>\n",
       "      <th>show_id</th>\n",
       "      <th>type</th>\n",
       "      <th>title</th>\n",
       "      <th>director</th>\n",
       "      <th>cast</th>\n",
       "      <th>country</th>\n",
       "      <th>date_added</th>\n",
       "      <th>release_year</th>\n",
       "      <th>rating</th>\n",
       "      <th>duration</th>\n",
       "      <th>listed_in</th>\n",
       "      <th>description</th>\n",
       "      <th>Dates</th>\n",
       "      <th>Minutes</th>\n",
       "      <th>unit</th>\n",
       "    </tr>\n",
       "  </thead>\n",
       "  <tbody>\n",
       "    <tr>\n",
       "      <th>0</th>\n",
       "      <td>s1</td>\n",
       "      <td>Movie</td>\n",
       "      <td>Dick Johnson Is Dead</td>\n",
       "      <td>Kirsten Johnson</td>\n",
       "      <td>NaN</td>\n",
       "      <td>United States</td>\n",
       "      <td>September 25, 2021</td>\n",
       "      <td>2020</td>\n",
       "      <td>PG-13</td>\n",
       "      <td>90 min</td>\n",
       "      <td>Documentaries</td>\n",
       "      <td>As her father nears the end of his life, filmm...</td>\n",
       "      <td>2021-09-25</td>\n",
       "      <td>90</td>\n",
       "      <td>min</td>\n",
       "    </tr>\n",
       "    <tr>\n",
       "      <th>6</th>\n",
       "      <td>s7</td>\n",
       "      <td>Movie</td>\n",
       "      <td>My Little Pony: A New Generation</td>\n",
       "      <td>Robert Cullen, José Luis Ucha</td>\n",
       "      <td>Vanessa Hudgens, Kimiko Glenn, James Marsden, ...</td>\n",
       "      <td>NaN</td>\n",
       "      <td>September 24, 2021</td>\n",
       "      <td>2021</td>\n",
       "      <td>PG</td>\n",
       "      <td>91 min</td>\n",
       "      <td>Children &amp; Family Movies</td>\n",
       "      <td>Equestria's divided. But a bright-eyed hero be...</td>\n",
       "      <td>2021-09-24</td>\n",
       "      <td>91</td>\n",
       "      <td>min</td>\n",
       "    </tr>\n",
       "    <tr>\n",
       "      <th>7</th>\n",
       "      <td>s8</td>\n",
       "      <td>Movie</td>\n",
       "      <td>Sankofa</td>\n",
       "      <td>Haile Gerima</td>\n",
       "      <td>Kofi Ghanaba, Oyafunmike Ogunlano, Alexandra D...</td>\n",
       "      <td>United States, Ghana, Burkina Faso, United Kin...</td>\n",
       "      <td>September 24, 2021</td>\n",
       "      <td>1993</td>\n",
       "      <td>TV-MA</td>\n",
       "      <td>125 min</td>\n",
       "      <td>Dramas, Independent Movies, International Movies</td>\n",
       "      <td>On a photo shoot in Ghana, an American model s...</td>\n",
       "      <td>2021-09-24</td>\n",
       "      <td>125</td>\n",
       "      <td>min</td>\n",
       "    </tr>\n",
       "    <tr>\n",
       "      <th>9</th>\n",
       "      <td>s10</td>\n",
       "      <td>Movie</td>\n",
       "      <td>The Starling</td>\n",
       "      <td>Theodore Melfi</td>\n",
       "      <td>Melissa McCarthy, Chris O'Dowd, Kevin Kline, T...</td>\n",
       "      <td>United States</td>\n",
       "      <td>September 24, 2021</td>\n",
       "      <td>2021</td>\n",
       "      <td>PG-13</td>\n",
       "      <td>104 min</td>\n",
       "      <td>Comedies, Dramas</td>\n",
       "      <td>A woman adjusting to life after a loss contend...</td>\n",
       "      <td>2021-09-24</td>\n",
       "      <td>104</td>\n",
       "      <td>min</td>\n",
       "    </tr>\n",
       "    <tr>\n",
       "      <th>12</th>\n",
       "      <td>s13</td>\n",
       "      <td>Movie</td>\n",
       "      <td>Je Suis Karl</td>\n",
       "      <td>Christian Schwochow</td>\n",
       "      <td>Luna Wedler, Jannis Niewöhner, Milan Peschel, ...</td>\n",
       "      <td>Germany, Czech Republic</td>\n",
       "      <td>September 23, 2021</td>\n",
       "      <td>2021</td>\n",
       "      <td>TV-MA</td>\n",
       "      <td>127 min</td>\n",
       "      <td>Dramas, International Movies</td>\n",
       "      <td>After most of her family is murdered in a terr...</td>\n",
       "      <td>2021-09-23</td>\n",
       "      <td>127</td>\n",
       "      <td>min</td>\n",
       "    </tr>\n",
       "  </tbody>\n",
       "</table>\n",
       "</div>"
      ],
      "text/plain": [
       "   show_id   type                             title  \\\n",
       "0       s1  Movie              Dick Johnson Is Dead   \n",
       "6       s7  Movie  My Little Pony: A New Generation   \n",
       "7       s8  Movie                           Sankofa   \n",
       "9      s10  Movie                      The Starling   \n",
       "12     s13  Movie                      Je Suis Karl   \n",
       "\n",
       "                         director  \\\n",
       "0                 Kirsten Johnson   \n",
       "6   Robert Cullen, José Luis Ucha   \n",
       "7                    Haile Gerima   \n",
       "9                  Theodore Melfi   \n",
       "12            Christian Schwochow   \n",
       "\n",
       "                                                 cast  \\\n",
       "0                                                 NaN   \n",
       "6   Vanessa Hudgens, Kimiko Glenn, James Marsden, ...   \n",
       "7   Kofi Ghanaba, Oyafunmike Ogunlano, Alexandra D...   \n",
       "9   Melissa McCarthy, Chris O'Dowd, Kevin Kline, T...   \n",
       "12  Luna Wedler, Jannis Niewöhner, Milan Peschel, ...   \n",
       "\n",
       "                                              country          date_added  \\\n",
       "0                                       United States  September 25, 2021   \n",
       "6                                                 NaN  September 24, 2021   \n",
       "7   United States, Ghana, Burkina Faso, United Kin...  September 24, 2021   \n",
       "9                                       United States  September 24, 2021   \n",
       "12                            Germany, Czech Republic  September 23, 2021   \n",
       "\n",
       "    release_year rating duration  \\\n",
       "0           2020  PG-13   90 min   \n",
       "6           2021     PG   91 min   \n",
       "7           1993  TV-MA  125 min   \n",
       "9           2021  PG-13  104 min   \n",
       "12          2021  TV-MA  127 min   \n",
       "\n",
       "                                           listed_in  \\\n",
       "0                                      Documentaries   \n",
       "6                           Children & Family Movies   \n",
       "7   Dramas, Independent Movies, International Movies   \n",
       "9                                   Comedies, Dramas   \n",
       "12                      Dramas, International Movies   \n",
       "\n",
       "                                          description      Dates Minutes unit  \n",
       "0   As her father nears the end of his life, filmm... 2021-09-25      90  min  \n",
       "6   Equestria's divided. But a bright-eyed hero be... 2021-09-24      91  min  \n",
       "7   On a photo shoot in Ghana, an American model s... 2021-09-24     125  min  \n",
       "9   A woman adjusting to life after a loss contend... 2021-09-24     104  min  \n",
       "12  After most of her family is murdered in a terr... 2021-09-23     127  min  "
      ]
     },
     "execution_count": 71,
     "metadata": {},
     "output_type": "execute_result"
    }
   ],
   "source": [
    "movies = df[df[\"type\"]==\"Movie\"]\n",
    "movies.head()"
   ]
  },
  {
   "cell_type": "code",
   "execution_count": 72,
   "id": "ab5dee16",
   "metadata": {
    "ExecuteTime": {
     "end_time": "2022-09-02T19:29:57.134630Z",
     "start_time": "2022-09-02T19:29:57.111435Z"
    }
   },
   "outputs": [
    {
     "data": {
      "text/plain": [
       "United States                            2058\n",
       "India                                     893\n",
       "United Kingdom                            206\n",
       "Canada                                    122\n",
       "Spain                                      97\n",
       "                                         ... \n",
       "United Kingdom, Russia, United States       1\n",
       "Paraguay, Argentina                         1\n",
       "United Kingdom, Malawi                      1\n",
       "Austria, Iraq, United States                1\n",
       "United Arab Emirates, Jordan                1\n",
       "Name: country, Length: 651, dtype: int64"
      ]
     },
     "execution_count": 72,
     "metadata": {},
     "output_type": "execute_result"
    }
   ],
   "source": [
    "movies[\"country\"].value_counts()"
   ]
  },
  {
   "cell_type": "code",
   "execution_count": 73,
   "id": "f52f64c0",
   "metadata": {
    "ExecuteTime": {
     "end_time": "2022-09-02T19:30:12.805093Z",
     "start_time": "2022-09-02T19:30:12.781090Z"
    }
   },
   "outputs": [
    {
     "data": {
      "text/plain": [
       "651"
      ]
     },
     "execution_count": 73,
     "metadata": {},
     "output_type": "execute_result"
    }
   ],
   "source": [
    "movies[\"country\"].nunique()"
   ]
  },
  {
   "cell_type": "markdown",
   "id": "a008554b",
   "metadata": {},
   "source": [
    "Most Movies"
   ]
  },
  {
   "cell_type": "code",
   "execution_count": 74,
   "id": "11e4f33c",
   "metadata": {
    "ExecuteTime": {
     "end_time": "2022-09-02T19:30:27.690961Z",
     "start_time": "2022-09-02T19:30:27.667365Z"
    }
   },
   "outputs": [],
   "source": [
    "top10_country = movies[\"country\"].value_counts().head(10)"
   ]
  },
  {
   "cell_type": "code",
   "execution_count": 75,
   "id": "9f0095f5",
   "metadata": {
    "ExecuteTime": {
     "end_time": "2022-09-02T19:31:03.328439Z",
     "start_time": "2022-09-02T19:31:03.305169Z"
    }
   },
   "outputs": [],
   "source": [
    "dict_top10 = dict(top10_country)\n",
    "labels = list(dict_top10.keys())\n",
    "values = list(dict_top10.values())"
   ]
  },
  {
   "cell_type": "code",
   "execution_count": 76,
   "id": "014057ea",
   "metadata": {
    "ExecuteTime": {
     "end_time": "2022-09-02T19:31:14.180686Z",
     "start_time": "2022-09-02T19:31:14.064524Z"
    }
   },
   "outputs": [
    {
     "data": {
      "image/png": "[encoded data removed]",
      "text/plain": [
       "<Figure size 432x288 with 1 Axes>"
      ]
     },
     "metadata": {},
     "output_type": "display_data"
    }
   ],
   "source": [
    "explode = [0.1,0,0,0,0,0,0,0,0,0]\n",
    "plt.title(\"Most Movies\")\n",
    "wedgeprops = {\"linewidth\":2 , \"edgecolor\":'w'}\n",
    "textprops = {\"fontsize\":12}\n",
    "plt.pie(values , labels=labels ,shadow=True,explode=explode, wedgeprops=wedgeprops ,textprops=textprops )\n",
    "plt.show()"
   ]
  },
  {
   "cell_type": "markdown",
   "id": "821542ee",
   "metadata": {},
   "source": [
    "# Genre"
   ]
  },
  {
   "cell_type": "code",
   "execution_count": 77,
   "id": "f636f4dc",
   "metadata": {
    "ExecuteTime": {
     "end_time": "2022-09-02T19:31:51.450275Z",
     "start_time": "2022-09-02T19:31:51.434279Z"
    },
    "scrolled": true
   },
   "outputs": [
    {
     "data": {
      "text/plain": [
       "Dramas, International Movies                          362\n",
       "Documentaries                                         359\n",
       "Stand-Up Comedy                                       334\n",
       "Comedies, Dramas, International Movies                274\n",
       "Dramas, Independent Movies, International Movies      252\n",
       "                                                     ... \n",
       "Kids' TV, TV Action & Adventure, TV Dramas              1\n",
       "TV Comedies, TV Dramas, TV Horror                       1\n",
       "Children & Family Movies, Comedies, LGBTQ Movies        1\n",
       "Kids' TV, Spanish-Language TV Shows, Teen TV Shows      1\n",
       "Cult Movies, Dramas, Thrillers                          1\n",
       "Name: listed_in, Length: 514, dtype: int64"
      ]
     },
     "execution_count": 77,
     "metadata": {},
     "output_type": "execute_result"
    }
   ],
   "source": [
    "df['listed_in'].value_counts()"
   ]
  }
 ],
 "metadata": {
  "kernelspec": {
   "display_name": "Python 3 (ipykernel)",
   "language": "python",
   "name": "python3"
  },
  "language_info": {
   "codemirror_mode": {
    "name": "ipython",
    "version": 3
   },
   "file_extension": ".py",
   "mimetype": "text/x-python",
   "name": "python",
   "nbconvert_exporter": "python",
   "pygments_lexer": "ipython3",
   "version": "3.9.12"
  },
  "toc": {
   "base_numbering": 1,
   "nav_menu": {},
   "number_sections": true,
   "sideBar": true,
   "skip_h1_title": true,
   "title_cell": "Table of Contents",
   "title_sidebar": "Contents",
   "toc_cell": false,
   "toc_position": {},
   "toc_section_display": true,
   "toc_window_display": false
  }
 },
 "nbformat": 4,
 "nbformat_minor": 5
}
